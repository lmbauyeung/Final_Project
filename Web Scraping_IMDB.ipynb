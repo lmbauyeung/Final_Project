{
 "cells": [
  {
   "cell_type": "code",
   "execution_count": 81,
   "id": "82e2a906",
   "metadata": {},
   "outputs": [],
   "source": [
    "from bs4 import BeautifulSoup\n",
    "import requests\n",
    "import pandas as pd\n",
    "import numpy as np\n",
    "from time import sleep\n",
    "from random import randint\n",
    "from datetime import datetime"
   ]
  },
  {
   "cell_type": "code",
   "execution_count": 82,
   "id": "026ca565",
   "metadata": {},
   "outputs": [],
   "source": [
    "# loading the data from The Numbers\n",
    "the_numbers_df = pd.read_csv('The_Numbers_data_cleaned.csv')"
   ]
  },
  {
   "cell_type": "code",
   "execution_count": 83,
   "id": "f6101dee",
   "metadata": {},
   "outputs": [
    {
     "data": {
      "text/html": [
       "<div>\n",
       "<style scoped>\n",
       "    .dataframe tbody tr th:only-of-type {\n",
       "        vertical-align: middle;\n",
       "    }\n",
       "\n",
       "    .dataframe tbody tr th {\n",
       "        vertical-align: top;\n",
       "    }\n",
       "\n",
       "    .dataframe thead th {\n",
       "        text-align: right;\n",
       "    }\n",
       "</style>\n",
       "<table border=\"1\" class=\"dataframe\">\n",
       "  <thead>\n",
       "    <tr style=\"text-align: right;\">\n",
       "      <th></th>\n",
       "      <th>index</th>\n",
       "      <th>release_date</th>\n",
       "      <th>movie</th>\n",
       "      <th>budget</th>\n",
       "      <th>domestic_gross</th>\n",
       "      <th>worldwide_gross</th>\n",
       "    </tr>\n",
       "  </thead>\n",
       "  <tbody>\n",
       "    <tr>\n",
       "      <th>0</th>\n",
       "      <td>1</td>\n",
       "      <td>4/23/2019</td>\n",
       "      <td>Avengers: Endgame</td>\n",
       "      <td>400,000,000</td>\n",
       "      <td>858,373,000</td>\n",
       "      <td>2,797,800,564</td>\n",
       "    </tr>\n",
       "    <tr>\n",
       "      <th>1</th>\n",
       "      <td>2</td>\n",
       "      <td>5/20/2011</td>\n",
       "      <td>Pirates of the Caribbean: On Stranger Tides</td>\n",
       "      <td>379,000,000</td>\n",
       "      <td>241,071,802</td>\n",
       "      <td>1,045,713,802</td>\n",
       "    </tr>\n",
       "    <tr>\n",
       "      <th>2</th>\n",
       "      <td>3</td>\n",
       "      <td>4/22/2015</td>\n",
       "      <td>Avengers: Age of Ultron</td>\n",
       "      <td>365,000,000</td>\n",
       "      <td>459,005,868</td>\n",
       "      <td>1,395,316,979</td>\n",
       "    </tr>\n",
       "    <tr>\n",
       "      <th>3</th>\n",
       "      <td>4</td>\n",
       "      <td>12/16/2015</td>\n",
       "      <td>Star Wars Episode VII: The Force Awakens</td>\n",
       "      <td>306,000,000</td>\n",
       "      <td>936,662,225</td>\n",
       "      <td>2,064,615,817</td>\n",
       "    </tr>\n",
       "    <tr>\n",
       "      <th>4</th>\n",
       "      <td>5</td>\n",
       "      <td>4/25/2018</td>\n",
       "      <td>Avengers: Infinity War</td>\n",
       "      <td>300,000,000</td>\n",
       "      <td>678,815,482</td>\n",
       "      <td>2,048,359,754</td>\n",
       "    </tr>\n",
       "    <tr>\n",
       "      <th>...</th>\n",
       "      <td>...</td>\n",
       "      <td>...</td>\n",
       "      <td>...</td>\n",
       "      <td>...</td>\n",
       "      <td>...</td>\n",
       "      <td>...</td>\n",
       "    </tr>\n",
       "    <tr>\n",
       "      <th>6222</th>\n",
       "      <td>6223</td>\n",
       "      <td>Unknown</td>\n",
       "      <td>Red 11</td>\n",
       "      <td>7,000</td>\n",
       "      <td>0</td>\n",
       "      <td>0</td>\n",
       "    </tr>\n",
       "    <tr>\n",
       "      <th>6223</th>\n",
       "      <td>6224</td>\n",
       "      <td>4/2/1999</td>\n",
       "      <td>Following</td>\n",
       "      <td>6,000</td>\n",
       "      <td>48,482</td>\n",
       "      <td>240,495</td>\n",
       "    </tr>\n",
       "    <tr>\n",
       "      <th>6224</th>\n",
       "      <td>6225</td>\n",
       "      <td>7/13/2005</td>\n",
       "      <td>Return to the Land of Wonders</td>\n",
       "      <td>5,000</td>\n",
       "      <td>1,338</td>\n",
       "      <td>1,338</td>\n",
       "    </tr>\n",
       "    <tr>\n",
       "      <th>6225</th>\n",
       "      <td>6226</td>\n",
       "      <td>9/29/2015</td>\n",
       "      <td>A Plague So Pleasant</td>\n",
       "      <td>1,400</td>\n",
       "      <td>0</td>\n",
       "      <td>0</td>\n",
       "    </tr>\n",
       "    <tr>\n",
       "      <th>6226</th>\n",
       "      <td>6227</td>\n",
       "      <td>8/5/2005</td>\n",
       "      <td>My Date With Drew</td>\n",
       "      <td>1,100</td>\n",
       "      <td>181,041</td>\n",
       "      <td>181,041</td>\n",
       "    </tr>\n",
       "  </tbody>\n",
       "</table>\n",
       "<p>6227 rows × 6 columns</p>\n",
       "</div>"
      ],
      "text/plain": [
       "      index release_date                                        movie  \\\n",
       "0         1    4/23/2019                            Avengers: Endgame   \n",
       "1         2    5/20/2011  Pirates of the Caribbean: On Stranger Tides   \n",
       "2         3    4/22/2015                      Avengers: Age of Ultron   \n",
       "3         4   12/16/2015     Star Wars Episode VII: The Force Awakens   \n",
       "4         5    4/25/2018                       Avengers: Infinity War   \n",
       "...     ...          ...                                          ...   \n",
       "6222   6223      Unknown                                       Red 11   \n",
       "6223   6224     4/2/1999                                    Following   \n",
       "6224   6225    7/13/2005                Return to the Land of Wonders   \n",
       "6225   6226    9/29/2015                         A Plague So Pleasant   \n",
       "6226   6227     8/5/2005                            My Date With Drew   \n",
       "\n",
       "           budget domestic_gross worldwide_gross  \n",
       "0     400,000,000    858,373,000   2,797,800,564  \n",
       "1     379,000,000    241,071,802   1,045,713,802  \n",
       "2     365,000,000    459,005,868   1,395,316,979  \n",
       "3     306,000,000    936,662,225   2,064,615,817  \n",
       "4     300,000,000    678,815,482   2,048,359,754  \n",
       "...           ...            ...             ...  \n",
       "6222        7,000              0               0  \n",
       "6223        6,000         48,482         240,495  \n",
       "6224        5,000          1,338           1,338  \n",
       "6225        1,400              0               0  \n",
       "6226        1,100        181,041         181,041  \n",
       "\n",
       "[6227 rows x 6 columns]"
      ]
     },
     "execution_count": 83,
     "metadata": {},
     "output_type": "execute_result"
    }
   ],
   "source": [
    "the_numbers_df"
   ]
  },
  {
   "cell_type": "code",
   "execution_count": 84,
   "id": "0efdb5a7",
   "metadata": {},
   "outputs": [
    {
     "name": "stdout",
     "output_type": "stream",
     "text": [
      "<class 'pandas.core.frame.DataFrame'>\n",
      "RangeIndex: 6227 entries, 0 to 6226\n",
      "Data columns (total 6 columns):\n",
      " #   Column           Non-Null Count  Dtype \n",
      "---  ------           --------------  ----- \n",
      " 0   index            6227 non-null   int64 \n",
      " 1   release_date     6227 non-null   object\n",
      " 2   movie            6227 non-null   object\n",
      " 3   budget           6227 non-null   object\n",
      " 4   domestic_gross   6227 non-null   object\n",
      " 5   worldwide_gross  6227 non-null   object\n",
      "dtypes: int64(1), object(5)\n",
      "memory usage: 292.0+ KB\n"
     ]
    }
   ],
   "source": [
    "the_numbers_df.info()"
   ]
  },
  {
   "cell_type": "code",
   "execution_count": 85,
   "id": "f2bdee5d",
   "metadata": {},
   "outputs": [],
   "source": [
    "# changing release_date to datetime\n",
    "the_numbers_df['release_date'] = pd.to_datetime(the_numbers_df['release_date'], errors ='coerce')"
   ]
  },
  {
   "cell_type": "code",
   "execution_count": 86,
   "id": "24aa60de",
   "metadata": {},
   "outputs": [],
   "source": [
    "# converting columns to integer\n",
    "the_numbers_df['budget'] = the_numbers_df['budget'].str.replace(',','').astype('int64')\n",
    "the_numbers_df['domestic_gross'] = the_numbers_df['domestic_gross'].str.replace(',','').astype('int64')\n",
    "the_numbers_df['worldwide_gross'] = the_numbers_df['worldwide_gross'].str.replace(',','').astype('int64')"
   ]
  },
  {
   "cell_type": "code",
   "execution_count": 87,
   "id": "2ac37724",
   "metadata": {},
   "outputs": [
    {
     "name": "stdout",
     "output_type": "stream",
     "text": [
      "<class 'pandas.core.frame.DataFrame'>\n",
      "RangeIndex: 6227 entries, 0 to 6226\n",
      "Data columns (total 6 columns):\n",
      " #   Column           Non-Null Count  Dtype         \n",
      "---  ------           --------------  -----         \n",
      " 0   index            6227 non-null   int64         \n",
      " 1   release_date     6112 non-null   datetime64[ns]\n",
      " 2   movie            6227 non-null   object        \n",
      " 3   budget           6227 non-null   int64         \n",
      " 4   domestic_gross   6227 non-null   int64         \n",
      " 5   worldwide_gross  6227 non-null   int64         \n",
      "dtypes: datetime64[ns](1), int64(4), object(1)\n",
      "memory usage: 292.0+ KB\n"
     ]
    }
   ],
   "source": [
    "the_numbers_df.info()"
   ]
  },
  {
   "cell_type": "code",
   "execution_count": 88,
   "id": "73d37c3f",
   "metadata": {},
   "outputs": [
    {
     "data": {
      "text/html": [
       "<div>\n",
       "<style scoped>\n",
       "    .dataframe tbody tr th:only-of-type {\n",
       "        vertical-align: middle;\n",
       "    }\n",
       "\n",
       "    .dataframe tbody tr th {\n",
       "        vertical-align: top;\n",
       "    }\n",
       "\n",
       "    .dataframe thead th {\n",
       "        text-align: right;\n",
       "    }\n",
       "</style>\n",
       "<table border=\"1\" class=\"dataframe\">\n",
       "  <thead>\n",
       "    <tr style=\"text-align: right;\">\n",
       "      <th></th>\n",
       "      <th>index</th>\n",
       "      <th>release_date</th>\n",
       "      <th>movie</th>\n",
       "      <th>budget</th>\n",
       "      <th>domestic_gross</th>\n",
       "      <th>worldwide_gross</th>\n",
       "    </tr>\n",
       "  </thead>\n",
       "  <tbody>\n",
       "    <tr>\n",
       "      <th>0</th>\n",
       "      <td>1</td>\n",
       "      <td>2019-04-23</td>\n",
       "      <td>Avengers: Endgame</td>\n",
       "      <td>400000000</td>\n",
       "      <td>858373000</td>\n",
       "      <td>2797800564</td>\n",
       "    </tr>\n",
       "    <tr>\n",
       "      <th>1</th>\n",
       "      <td>2</td>\n",
       "      <td>2011-05-20</td>\n",
       "      <td>Pirates of the Caribbean: On Stranger Tides</td>\n",
       "      <td>379000000</td>\n",
       "      <td>241071802</td>\n",
       "      <td>1045713802</td>\n",
       "    </tr>\n",
       "    <tr>\n",
       "      <th>2</th>\n",
       "      <td>3</td>\n",
       "      <td>2015-04-22</td>\n",
       "      <td>Avengers: Age of Ultron</td>\n",
       "      <td>365000000</td>\n",
       "      <td>459005868</td>\n",
       "      <td>1395316979</td>\n",
       "    </tr>\n",
       "    <tr>\n",
       "      <th>3</th>\n",
       "      <td>4</td>\n",
       "      <td>2015-12-16</td>\n",
       "      <td>Star Wars Episode VII: The Force Awakens</td>\n",
       "      <td>306000000</td>\n",
       "      <td>936662225</td>\n",
       "      <td>2064615817</td>\n",
       "    </tr>\n",
       "    <tr>\n",
       "      <th>4</th>\n",
       "      <td>5</td>\n",
       "      <td>2018-04-25</td>\n",
       "      <td>Avengers: Infinity War</td>\n",
       "      <td>300000000</td>\n",
       "      <td>678815482</td>\n",
       "      <td>2048359754</td>\n",
       "    </tr>\n",
       "  </tbody>\n",
       "</table>\n",
       "</div>"
      ],
      "text/plain": [
       "   index release_date                                        movie     budget  \\\n",
       "0      1   2019-04-23                            Avengers: Endgame  400000000   \n",
       "1      2   2011-05-20  Pirates of the Caribbean: On Stranger Tides  379000000   \n",
       "2      3   2015-04-22                      Avengers: Age of Ultron  365000000   \n",
       "3      4   2015-12-16     Star Wars Episode VII: The Force Awakens  306000000   \n",
       "4      5   2018-04-25                       Avengers: Infinity War  300000000   \n",
       "\n",
       "   domestic_gross  worldwide_gross  \n",
       "0       858373000       2797800564  \n",
       "1       241071802       1045713802  \n",
       "2       459005868       1395316979  \n",
       "3       936662225       2064615817  \n",
       "4       678815482       2048359754  "
      ]
     },
     "execution_count": 88,
     "metadata": {},
     "output_type": "execute_result"
    }
   ],
   "source": [
    "the_numbers_df.head()"
   ]
  },
  {
   "cell_type": "code",
   "execution_count": 89,
   "id": "877b8b13",
   "metadata": {},
   "outputs": [],
   "source": [
    "# dropping nulls\n",
    "the_numbers_df.dropna(inplace=True)"
   ]
  },
  {
   "cell_type": "code",
   "execution_count": 90,
   "id": "811231b7",
   "metadata": {},
   "outputs": [],
   "source": [
    "# filtering\n",
    "# 1. release_date after 1999\n",
    "# 2. release_date before 2020 (pre-pandemic)\n",
    "# 3. worldwide_gross > $500,000\n",
    "budget_df = the_numbers_df[(the_numbers_df['release_date']>='2000-01-01') & (the_numbers_df['release_date']<='2019-12-31') & (the_numbers_df['worldwide_gross']>=500000)]"
   ]
  },
  {
   "cell_type": "code",
   "execution_count": 91,
   "id": "fd989a8b",
   "metadata": {},
   "outputs": [
    {
     "name": "stdout",
     "output_type": "stream",
     "text": [
      "<class 'pandas.core.frame.DataFrame'>\n",
      "Int64Index: 3811 entries, 0 to 6219\n",
      "Data columns (total 6 columns):\n",
      " #   Column           Non-Null Count  Dtype         \n",
      "---  ------           --------------  -----         \n",
      " 0   index            3811 non-null   int64         \n",
      " 1   release_date     3811 non-null   datetime64[ns]\n",
      " 2   movie            3811 non-null   object        \n",
      " 3   budget           3811 non-null   int64         \n",
      " 4   domestic_gross   3811 non-null   int64         \n",
      " 5   worldwide_gross  3811 non-null   int64         \n",
      "dtypes: datetime64[ns](1), int64(4), object(1)\n",
      "memory usage: 208.4+ KB\n"
     ]
    }
   ],
   "source": [
    "budget_df.info()"
   ]
  },
  {
   "cell_type": "code",
   "execution_count": 92,
   "id": "91ac6ca9",
   "metadata": {},
   "outputs": [],
   "source": [
    "budget_df.reset_index(inplace=True)"
   ]
  },
  {
   "cell_type": "code",
   "execution_count": 93,
   "id": "91847ef7",
   "metadata": {},
   "outputs": [
    {
     "data": {
      "text/html": [
       "<div>\n",
       "<style scoped>\n",
       "    .dataframe tbody tr th:only-of-type {\n",
       "        vertical-align: middle;\n",
       "    }\n",
       "\n",
       "    .dataframe tbody tr th {\n",
       "        vertical-align: top;\n",
       "    }\n",
       "\n",
       "    .dataframe thead th {\n",
       "        text-align: right;\n",
       "    }\n",
       "</style>\n",
       "<table border=\"1\" class=\"dataframe\">\n",
       "  <thead>\n",
       "    <tr style=\"text-align: right;\">\n",
       "      <th></th>\n",
       "      <th>level_0</th>\n",
       "      <th>index</th>\n",
       "      <th>release_date</th>\n",
       "      <th>movie</th>\n",
       "      <th>budget</th>\n",
       "      <th>domestic_gross</th>\n",
       "      <th>worldwide_gross</th>\n",
       "    </tr>\n",
       "  </thead>\n",
       "  <tbody>\n",
       "    <tr>\n",
       "      <th>0</th>\n",
       "      <td>0</td>\n",
       "      <td>1</td>\n",
       "      <td>2019-04-23</td>\n",
       "      <td>Avengers: Endgame</td>\n",
       "      <td>400000000</td>\n",
       "      <td>858373000</td>\n",
       "      <td>2797800564</td>\n",
       "    </tr>\n",
       "    <tr>\n",
       "      <th>1</th>\n",
       "      <td>1</td>\n",
       "      <td>2</td>\n",
       "      <td>2011-05-20</td>\n",
       "      <td>Pirates of the Caribbean: On Stranger Tides</td>\n",
       "      <td>379000000</td>\n",
       "      <td>241071802</td>\n",
       "      <td>1045713802</td>\n",
       "    </tr>\n",
       "    <tr>\n",
       "      <th>2</th>\n",
       "      <td>2</td>\n",
       "      <td>3</td>\n",
       "      <td>2015-04-22</td>\n",
       "      <td>Avengers: Age of Ultron</td>\n",
       "      <td>365000000</td>\n",
       "      <td>459005868</td>\n",
       "      <td>1395316979</td>\n",
       "    </tr>\n",
       "    <tr>\n",
       "      <th>3</th>\n",
       "      <td>3</td>\n",
       "      <td>4</td>\n",
       "      <td>2015-12-16</td>\n",
       "      <td>Star Wars Episode VII: The Force Awakens</td>\n",
       "      <td>306000000</td>\n",
       "      <td>936662225</td>\n",
       "      <td>2064615817</td>\n",
       "    </tr>\n",
       "    <tr>\n",
       "      <th>4</th>\n",
       "      <td>4</td>\n",
       "      <td>5</td>\n",
       "      <td>2018-04-25</td>\n",
       "      <td>Avengers: Infinity War</td>\n",
       "      <td>300000000</td>\n",
       "      <td>678815482</td>\n",
       "      <td>2048359754</td>\n",
       "    </tr>\n",
       "    <tr>\n",
       "      <th>...</th>\n",
       "      <td>...</td>\n",
       "      <td>...</td>\n",
       "      <td>...</td>\n",
       "      <td>...</td>\n",
       "      <td>...</td>\n",
       "      <td>...</td>\n",
       "      <td>...</td>\n",
       "    </tr>\n",
       "    <tr>\n",
       "      <th>3806</th>\n",
       "      <td>6119</td>\n",
       "      <td>6120</td>\n",
       "      <td>2017-07-07</td>\n",
       "      <td>A Ghost Story</td>\n",
       "      <td>100000</td>\n",
       "      <td>1594798</td>\n",
       "      <td>2769782</td>\n",
       "    </tr>\n",
       "    <tr>\n",
       "      <th>3807</th>\n",
       "      <td>6147</td>\n",
       "      <td>6148</td>\n",
       "      <td>2004-05-07</td>\n",
       "      <td>Super Size Me</td>\n",
       "      <td>65000</td>\n",
       "      <td>11529368</td>\n",
       "      <td>22233808</td>\n",
       "    </tr>\n",
       "    <tr>\n",
       "      <th>3808</th>\n",
       "      <td>6155</td>\n",
       "      <td>6156</td>\n",
       "      <td>2001-03-16</td>\n",
       "      <td>Gabriela</td>\n",
       "      <td>50000</td>\n",
       "      <td>2335352</td>\n",
       "      <td>2335352</td>\n",
       "    </tr>\n",
       "    <tr>\n",
       "      <th>3809</th>\n",
       "      <td>6210</td>\n",
       "      <td>6211</td>\n",
       "      <td>2001-03-09</td>\n",
       "      <td>Dayereh</td>\n",
       "      <td>10000</td>\n",
       "      <td>673780</td>\n",
       "      <td>683509</td>\n",
       "    </tr>\n",
       "    <tr>\n",
       "      <th>3810</th>\n",
       "      <td>6219</td>\n",
       "      <td>6220</td>\n",
       "      <td>2004-10-08</td>\n",
       "      <td>Primer</td>\n",
       "      <td>7000</td>\n",
       "      <td>424760</td>\n",
       "      <td>841926</td>\n",
       "    </tr>\n",
       "  </tbody>\n",
       "</table>\n",
       "<p>3811 rows × 7 columns</p>\n",
       "</div>"
      ],
      "text/plain": [
       "      level_0  index release_date  \\\n",
       "0           0      1   2019-04-23   \n",
       "1           1      2   2011-05-20   \n",
       "2           2      3   2015-04-22   \n",
       "3           3      4   2015-12-16   \n",
       "4           4      5   2018-04-25   \n",
       "...       ...    ...          ...   \n",
       "3806     6119   6120   2017-07-07   \n",
       "3807     6147   6148   2004-05-07   \n",
       "3808     6155   6156   2001-03-16   \n",
       "3809     6210   6211   2001-03-09   \n",
       "3810     6219   6220   2004-10-08   \n",
       "\n",
       "                                            movie     budget  domestic_gross  \\\n",
       "0                               Avengers: Endgame  400000000       858373000   \n",
       "1     Pirates of the Caribbean: On Stranger Tides  379000000       241071802   \n",
       "2                         Avengers: Age of Ultron  365000000       459005868   \n",
       "3        Star Wars Episode VII: The Force Awakens  306000000       936662225   \n",
       "4                          Avengers: Infinity War  300000000       678815482   \n",
       "...                                           ...        ...             ...   \n",
       "3806                                A Ghost Story     100000         1594798   \n",
       "3807                                Super Size Me      65000        11529368   \n",
       "3808                                     Gabriela      50000         2335352   \n",
       "3809                                      Dayereh      10000          673780   \n",
       "3810                                       Primer       7000          424760   \n",
       "\n",
       "      worldwide_gross  \n",
       "0          2797800564  \n",
       "1          1045713802  \n",
       "2          1395316979  \n",
       "3          2064615817  \n",
       "4          2048359754  \n",
       "...               ...  \n",
       "3806          2769782  \n",
       "3807         22233808  \n",
       "3808          2335352  \n",
       "3809           683509  \n",
       "3810           841926  \n",
       "\n",
       "[3811 rows x 7 columns]"
      ]
     },
     "execution_count": 93,
     "metadata": {},
     "output_type": "execute_result"
    }
   ],
   "source": [
    "budget_df"
   ]
  },
  {
   "cell_type": "code",
   "execution_count": 94,
   "id": "8b6ccc50",
   "metadata": {},
   "outputs": [
    {
     "name": "stderr",
     "output_type": "stream",
     "text": [
      "C:\\Users\\Bosco\\anaconda3\\envs\\DA_ENV\\lib\\site-packages\\pandas\\core\\frame.py:4906: SettingWithCopyWarning: \n",
      "A value is trying to be set on a copy of a slice from a DataFrame\n",
      "\n",
      "See the caveats in the documentation: https://pandas.pydata.org/pandas-docs/stable/user_guide/indexing.html#returning-a-view-versus-a-copy\n",
      "  return super().drop(\n"
     ]
    }
   ],
   "source": [
    "# dropping index columns\n",
    "budget_df.drop(['index', 'level_0'], axis=1, inplace=True)"
   ]
  },
  {
   "cell_type": "code",
   "execution_count": 95,
   "id": "f9ccf740",
   "metadata": {},
   "outputs": [
    {
     "data": {
      "text/html": [
       "<div>\n",
       "<style scoped>\n",
       "    .dataframe tbody tr th:only-of-type {\n",
       "        vertical-align: middle;\n",
       "    }\n",
       "\n",
       "    .dataframe tbody tr th {\n",
       "        vertical-align: top;\n",
       "    }\n",
       "\n",
       "    .dataframe thead th {\n",
       "        text-align: right;\n",
       "    }\n",
       "</style>\n",
       "<table border=\"1\" class=\"dataframe\">\n",
       "  <thead>\n",
       "    <tr style=\"text-align: right;\">\n",
       "      <th></th>\n",
       "      <th>release_date</th>\n",
       "      <th>movie</th>\n",
       "      <th>budget</th>\n",
       "      <th>domestic_gross</th>\n",
       "      <th>worldwide_gross</th>\n",
       "    </tr>\n",
       "  </thead>\n",
       "  <tbody>\n",
       "    <tr>\n",
       "      <th>0</th>\n",
       "      <td>2019-04-23</td>\n",
       "      <td>Avengers: Endgame</td>\n",
       "      <td>400000000</td>\n",
       "      <td>858373000</td>\n",
       "      <td>2797800564</td>\n",
       "    </tr>\n",
       "    <tr>\n",
       "      <th>1</th>\n",
       "      <td>2011-05-20</td>\n",
       "      <td>Pirates of the Caribbean: On Stranger Tides</td>\n",
       "      <td>379000000</td>\n",
       "      <td>241071802</td>\n",
       "      <td>1045713802</td>\n",
       "    </tr>\n",
       "    <tr>\n",
       "      <th>2</th>\n",
       "      <td>2015-04-22</td>\n",
       "      <td>Avengers: Age of Ultron</td>\n",
       "      <td>365000000</td>\n",
       "      <td>459005868</td>\n",
       "      <td>1395316979</td>\n",
       "    </tr>\n",
       "    <tr>\n",
       "      <th>3</th>\n",
       "      <td>2015-12-16</td>\n",
       "      <td>Star Wars Episode VII: The Force Awakens</td>\n",
       "      <td>306000000</td>\n",
       "      <td>936662225</td>\n",
       "      <td>2064615817</td>\n",
       "    </tr>\n",
       "    <tr>\n",
       "      <th>4</th>\n",
       "      <td>2018-04-25</td>\n",
       "      <td>Avengers: Infinity War</td>\n",
       "      <td>300000000</td>\n",
       "      <td>678815482</td>\n",
       "      <td>2048359754</td>\n",
       "    </tr>\n",
       "    <tr>\n",
       "      <th>...</th>\n",
       "      <td>...</td>\n",
       "      <td>...</td>\n",
       "      <td>...</td>\n",
       "      <td>...</td>\n",
       "      <td>...</td>\n",
       "    </tr>\n",
       "    <tr>\n",
       "      <th>3806</th>\n",
       "      <td>2017-07-07</td>\n",
       "      <td>A Ghost Story</td>\n",
       "      <td>100000</td>\n",
       "      <td>1594798</td>\n",
       "      <td>2769782</td>\n",
       "    </tr>\n",
       "    <tr>\n",
       "      <th>3807</th>\n",
       "      <td>2004-05-07</td>\n",
       "      <td>Super Size Me</td>\n",
       "      <td>65000</td>\n",
       "      <td>11529368</td>\n",
       "      <td>22233808</td>\n",
       "    </tr>\n",
       "    <tr>\n",
       "      <th>3808</th>\n",
       "      <td>2001-03-16</td>\n",
       "      <td>Gabriela</td>\n",
       "      <td>50000</td>\n",
       "      <td>2335352</td>\n",
       "      <td>2335352</td>\n",
       "    </tr>\n",
       "    <tr>\n",
       "      <th>3809</th>\n",
       "      <td>2001-03-09</td>\n",
       "      <td>Dayereh</td>\n",
       "      <td>10000</td>\n",
       "      <td>673780</td>\n",
       "      <td>683509</td>\n",
       "    </tr>\n",
       "    <tr>\n",
       "      <th>3810</th>\n",
       "      <td>2004-10-08</td>\n",
       "      <td>Primer</td>\n",
       "      <td>7000</td>\n",
       "      <td>424760</td>\n",
       "      <td>841926</td>\n",
       "    </tr>\n",
       "  </tbody>\n",
       "</table>\n",
       "<p>3811 rows × 5 columns</p>\n",
       "</div>"
      ],
      "text/plain": [
       "     release_date                                        movie     budget  \\\n",
       "0      2019-04-23                            Avengers: Endgame  400000000   \n",
       "1      2011-05-20  Pirates of the Caribbean: On Stranger Tides  379000000   \n",
       "2      2015-04-22                      Avengers: Age of Ultron  365000000   \n",
       "3      2015-12-16     Star Wars Episode VII: The Force Awakens  306000000   \n",
       "4      2018-04-25                       Avengers: Infinity War  300000000   \n",
       "...           ...                                          ...        ...   \n",
       "3806   2017-07-07                                A Ghost Story     100000   \n",
       "3807   2004-05-07                                Super Size Me      65000   \n",
       "3808   2001-03-16                                     Gabriela      50000   \n",
       "3809   2001-03-09                                      Dayereh      10000   \n",
       "3810   2004-10-08                                       Primer       7000   \n",
       "\n",
       "      domestic_gross  worldwide_gross  \n",
       "0          858373000       2797800564  \n",
       "1          241071802       1045713802  \n",
       "2          459005868       1395316979  \n",
       "3          936662225       2064615817  \n",
       "4          678815482       2048359754  \n",
       "...              ...              ...  \n",
       "3806         1594798          2769782  \n",
       "3807        11529368         22233808  \n",
       "3808         2335352          2335352  \n",
       "3809          673780           683509  \n",
       "3810          424760           841926  \n",
       "\n",
       "[3811 rows x 5 columns]"
      ]
     },
     "execution_count": 95,
     "metadata": {},
     "output_type": "execute_result"
    }
   ],
   "source": [
    "budget_df"
   ]
  },
  {
   "cell_type": "code",
   "execution_count": 96,
   "id": "3a05e27b",
   "metadata": {},
   "outputs": [],
   "source": [
    "#imdb_rating = []\n",
    "#main_cast_1 = []\n",
    "#main_cast_2 = []\n",
    "#main_cast_3 = []"
   ]
  },
  {
   "cell_type": "code",
   "execution_count": 164,
   "id": "52c9a506",
   "metadata": {},
   "outputs": [
    {
     "data": {
      "text/plain": [
       "'https://www.imdb.com/title/tt1967614'"
      ]
     },
     "execution_count": 164,
     "metadata": {},
     "output_type": "execute_result"
    }
   ],
   "source": [
    "movie_url = 'https://www.imdb.com/title/tt1967614'\n",
    "movie_url"
   ]
  },
  {
   "cell_type": "code",
   "execution_count": 168,
   "id": "6d87e574",
   "metadata": {},
   "outputs": [
    {
     "data": {
      "text/plain": [
       "'5.8'"
      ]
     },
     "execution_count": 168,
     "metadata": {},
     "output_type": "execute_result"
    }
   ],
   "source": [
    "rating = soup.select('span.AggregateRatingButton__RatingScore-sc-1ll29m0-1.iTLWoV')[0].get_text()\n",
    "rating"
   ]
  },
  {
   "cell_type": "code",
   "execution_count": 189,
   "id": "8de67d10",
   "metadata": {},
   "outputs": [],
   "source": [
    "imdb_df['cast_3'][2499] = cast3"
   ]
  },
  {
   "cell_type": "code",
   "execution_count": 169,
   "id": "d0b2dc97",
   "metadata": {},
   "outputs": [
    {
     "data": {
      "text/plain": [
       "'Robert De Niro'"
      ]
     },
     "execution_count": 169,
     "metadata": {},
     "output_type": "execute_result"
    }
   ],
   "source": [
    "cast1 = soup.select('div.PrincipalCredits__PrincipalCreditsPanelWideScreen-sc-hdn81t-0.hzbDAm> ul > li:nth-child(3) > div > ul > li:nth-child(1) > a')[0].get_text()\n",
    "cast1"
   ]
  },
  {
   "cell_type": "code",
   "execution_count": 170,
   "id": "866524e4",
   "metadata": {},
   "outputs": [
    {
     "data": {
      "text/plain": [
       "'Leslie Mann'"
      ]
     },
     "execution_count": 170,
     "metadata": {},
     "output_type": "execute_result"
    }
   ],
   "source": [
    "cast2 = soup.select('div.PrincipalCredits__PrincipalCreditsPanelWideScreen-sc-hdn81t-0.hzbDAm> ul > li:nth-child(3) > div > ul > li:nth-child(2) > a')[0].get_text()\n",
    "cast2"
   ]
  },
  {
   "cell_type": "code",
   "execution_count": 171,
   "id": "01a29444",
   "metadata": {},
   "outputs": [
    {
     "data": {
      "text/plain": [
       "'Danny DeVito'"
      ]
     },
     "execution_count": 171,
     "metadata": {},
     "output_type": "execute_result"
    }
   ],
   "source": [
    "cast3 = soup.select('div.PrincipalCredits__PrincipalCreditsPanelWideScreen-sc-hdn81t-0.hzbDAm> ul > li:nth-child(3) > div > ul > li:nth-child(3) > a')[0].get_text()\n",
    "cast3"
   ]
  },
  {
   "cell_type": "code",
   "execution_count": 165,
   "id": "263d9215",
   "metadata": {},
   "outputs": [],
   "source": [
    "response = requests.get(movie_url)\n",
    "#__next > main > div > section.ipc-page-background.ipc-page-background--base.MainDetailPageLayout__StyledPageBackground-sc-13rp3wh-0.hsughJ > section > div:nth-child(4) > section > section > div.Hero__MediaContentContainer__Video-sc-kvkd64-2.gVRpZB > div.Hero__ContentContainer-sc-kvkd64-10.frcskz > div.Hero__MetaContainer__Video-sc-kvkd64-4.jMerKX > div.RatingBar__RatingContainer-sc-85l9wd-0.hNqCJh.Hero__HideableRatingBar-sc-kvkd64-12.fWiTEj > div > div:nth-child(1) > a > div > div > div.AggregateRatingButton__ContentWrap-sc-1ll29m0-0.hmJkIS > div.AggregateRatingButton__Rating-sc-1ll29m0-2.bmbYRW > span.AggregateRatingButton__RatingScore-sc-1ll29m0-1.iTLWoV"
   ]
  },
  {
   "cell_type": "code",
   "execution_count": 166,
   "id": "8579f749",
   "metadata": {},
   "outputs": [],
   "source": [
    "soup = BeautifulSoup(response.content, 'html.parser')"
   ]
  },
  {
   "cell_type": "code",
   "execution_count": 142,
   "id": "559ab75b",
   "metadata": {},
   "outputs": [
    {
     "name": "stdout",
     "output_type": "stream",
     "text": [
      "2022-03-03 21:29:24.180706\n",
      "2022-03-03 23:55:25.492099\n"
     ]
    }
   ],
   "source": [
    "print(datetime.now())\n",
    "for i in range(1500,2500):\n",
    "    # searching the movie on imdb\n",
    "    search_url = 'https://www.imdb.com/search/title/?title=' +str(budget_df['movie'][i])+ '&title_type=feature&release_date=' +str(budget_df['release_date'][i].year)+'-01-01,' +str(budget_df['release_date'][i].year)+ '-12-31'\n",
    "    response_search = requests.get(search_url)\n",
    "    soup_search = BeautifulSoup(response_search.content, 'html.parser')\n",
    "    \n",
    "    try:\n",
    "        # obtaining the movie page\n",
    "        movie_url = 'http://imdb.com'+soup_search.select('h3 a')[0].get('href')\n",
    "        response = requests.get(movie_url)\n",
    "        soup = BeautifulSoup(response.content, 'html.parser')\n",
    "\n",
    "        # adding rating to list\n",
    "        try:\n",
    "            rating = soup.select('span.AggregateRatingButton__RatingScore-sc-1ll29m0-1.iTLWoV')[0].get_text()\n",
    "            imdb_rating.append(rating)\n",
    "        except:\n",
    "            imdb_rating.append(np.nan)\n",
    "\n",
    "        # adding cast 1 to list\n",
    "        try:\n",
    "            cast1 = soup.select('div.PrincipalCredits__PrincipalCreditsPanelWideScreen-sc-hdn81t-0.hzbDAm> ul > li:nth-child(3) > div > ul > li:nth-child(1) > a')[0].get_text()\n",
    "            main_cast_1.append(cast1)\n",
    "        except:\n",
    "            main_cast_1.append(np.nan)\n",
    "\n",
    "        # adding cast 2 to list\n",
    "        try:\n",
    "            cast2 = soup.select('div.PrincipalCredits__PrincipalCreditsPanelWideScreen-sc-hdn81t-0.hzbDAm> ul > li:nth-child(3) > div > ul > li:nth-child(2) > a')[0].get_text()\n",
    "            main_cast_2.append(cast2)\n",
    "        except:\n",
    "            main_cast_2.append(np.nan)\n",
    "\n",
    "        # adding cast 3 to list\n",
    "        try:\n",
    "            cast3 = soup.select('div.PrincipalCredits__PrincipalCreditsPanelWideScreen-sc-hdn81t-0.hzbDAm> ul > li:nth-child(3) > div > ul > li:nth-child(3) > a')[0].get_text()\n",
    "            main_cast_3.append(cast3)\n",
    "        except:\n",
    "            main_cast_3.append(np.nan)\n",
    "            \n",
    "    except:\n",
    "        imdb_rating.append(np.nan)\n",
    "        main_cast_1.append(np.nan)\n",
    "        main_cast_2.append(np.nan)\n",
    "        main_cast_3.append(np.nan)\n",
    "    \n",
    "    # adding sleep time\n",
    "    wait_time = randint(1, 2)\n",
    "    sleep(wait_time)\n",
    "    \n",
    "print(datetime.now())"
   ]
  },
  {
   "cell_type": "code",
   "execution_count": 143,
   "id": "4a19b445",
   "metadata": {},
   "outputs": [
    {
     "data": {
      "text/html": [
       "<div>\n",
       "<style scoped>\n",
       "    .dataframe tbody tr th:only-of-type {\n",
       "        vertical-align: middle;\n",
       "    }\n",
       "\n",
       "    .dataframe tbody tr th {\n",
       "        vertical-align: top;\n",
       "    }\n",
       "\n",
       "    .dataframe thead th {\n",
       "        text-align: right;\n",
       "    }\n",
       "</style>\n",
       "<table border=\"1\" class=\"dataframe\">\n",
       "  <thead>\n",
       "    <tr style=\"text-align: right;\">\n",
       "      <th></th>\n",
       "      <th>release_date</th>\n",
       "      <th>movie</th>\n",
       "      <th>budget</th>\n",
       "      <th>domestic_gross</th>\n",
       "      <th>worldwide_gross</th>\n",
       "    </tr>\n",
       "  </thead>\n",
       "  <tbody>\n",
       "    <tr>\n",
       "      <th>2498</th>\n",
       "      <td>2008-07-18</td>\n",
       "      <td>Transsiberian</td>\n",
       "      <td>15000000</td>\n",
       "      <td>2203641</td>\n",
       "      <td>6379575</td>\n",
       "    </tr>\n",
       "    <tr>\n",
       "      <th>2499</th>\n",
       "      <td>2017-02-03</td>\n",
       "      <td>The Comedian</td>\n",
       "      <td>15000000</td>\n",
       "      <td>1658706</td>\n",
       "      <td>1658706</td>\n",
       "    </tr>\n",
       "  </tbody>\n",
       "</table>\n",
       "</div>"
      ],
      "text/plain": [
       "     release_date          movie    budget  domestic_gross  worldwide_gross\n",
       "2498   2008-07-18  Transsiberian  15000000         2203641          6379575\n",
       "2499   2017-02-03   The Comedian  15000000         1658706          1658706"
      ]
     },
     "execution_count": 143,
     "metadata": {},
     "output_type": "execute_result"
    }
   ],
   "source": [
    "budget_df[2498:2500]"
   ]
  },
  {
   "cell_type": "code",
   "execution_count": 144,
   "id": "497c15d6",
   "metadata": {},
   "outputs": [
    {
     "data": {
      "text/plain": [
       "['6.6', '2.9']"
      ]
     },
     "execution_count": 144,
     "metadata": {},
     "output_type": "execute_result"
    }
   ],
   "source": [
    "imdb_rating[2498:2500]"
   ]
  },
  {
   "cell_type": "code",
   "execution_count": 145,
   "id": "c4e5d349",
   "metadata": {},
   "outputs": [
    {
     "data": {
      "text/plain": [
       "['Woody Harrelson', nan]"
      ]
     },
     "execution_count": 145,
     "metadata": {},
     "output_type": "execute_result"
    }
   ],
   "source": [
    "main_cast_1[2498:2500]"
   ]
  },
  {
   "cell_type": "code",
   "execution_count": 146,
   "id": "f2138449",
   "metadata": {},
   "outputs": [
    {
     "data": {
      "text/plain": [
       "['Emily Mortimer', nan]"
      ]
     },
     "execution_count": 146,
     "metadata": {},
     "output_type": "execute_result"
    }
   ],
   "source": [
    "main_cast_2[2498:2500]"
   ]
  },
  {
   "cell_type": "code",
   "execution_count": 147,
   "id": "6ee71041",
   "metadata": {},
   "outputs": [
    {
     "data": {
      "text/plain": [
       "['Ben Kingsley', nan]"
      ]
     },
     "execution_count": 147,
     "metadata": {},
     "output_type": "execute_result"
    }
   ],
   "source": [
    "main_cast_3[2498:2500]"
   ]
  },
  {
   "cell_type": "code",
   "execution_count": 179,
   "id": "69282b5d",
   "metadata": {},
   "outputs": [],
   "source": [
    "# creating a dataframe for crawled data\n",
    "imdb_df = pd.DataFrame(columns=['title','imdb_rating','cast_1','cast_2','cast_3'])"
   ]
  },
  {
   "cell_type": "code",
   "execution_count": 180,
   "id": "14c0cf1d",
   "metadata": {},
   "outputs": [],
   "source": [
    "imdb_df['title'] = budget_df['movie'][0:2500]"
   ]
  },
  {
   "cell_type": "code",
   "execution_count": 181,
   "id": "0a87febb",
   "metadata": {},
   "outputs": [],
   "source": [
    "imdb_df['imdb_rating'] = imdb_rating\n",
    "imdb_df['cast_1'] = main_cast_1\n",
    "imdb_df['cast_2'] = main_cast_2\n",
    "imdb_df['cast_3'] = main_cast_3"
   ]
  },
  {
   "cell_type": "code",
   "execution_count": 190,
   "id": "c39faeff",
   "metadata": {},
   "outputs": [
    {
     "data": {
      "text/html": [
       "<div>\n",
       "<style scoped>\n",
       "    .dataframe tbody tr th:only-of-type {\n",
       "        vertical-align: middle;\n",
       "    }\n",
       "\n",
       "    .dataframe tbody tr th {\n",
       "        vertical-align: top;\n",
       "    }\n",
       "\n",
       "    .dataframe thead th {\n",
       "        text-align: right;\n",
       "    }\n",
       "</style>\n",
       "<table border=\"1\" class=\"dataframe\">\n",
       "  <thead>\n",
       "    <tr style=\"text-align: right;\">\n",
       "      <th></th>\n",
       "      <th>title</th>\n",
       "      <th>imdb_rating</th>\n",
       "      <th>cast_1</th>\n",
       "      <th>cast_2</th>\n",
       "      <th>cast_3</th>\n",
       "    </tr>\n",
       "  </thead>\n",
       "  <tbody>\n",
       "    <tr>\n",
       "      <th>0</th>\n",
       "      <td>Avengers: Endgame</td>\n",
       "      <td>8.4</td>\n",
       "      <td>Robert Downey Jr.</td>\n",
       "      <td>Chris Evans</td>\n",
       "      <td>Mark Ruffalo</td>\n",
       "    </tr>\n",
       "    <tr>\n",
       "      <th>1</th>\n",
       "      <td>Pirates of the Caribbean: On Stranger Tides</td>\n",
       "      <td>6.6</td>\n",
       "      <td>Johnny Depp</td>\n",
       "      <td>Penélope Cruz</td>\n",
       "      <td>Ian McShane</td>\n",
       "    </tr>\n",
       "    <tr>\n",
       "      <th>2</th>\n",
       "      <td>Avengers: Age of Ultron</td>\n",
       "      <td>7.3</td>\n",
       "      <td>Robert Downey Jr.</td>\n",
       "      <td>Chris Evans</td>\n",
       "      <td>Mark Ruffalo</td>\n",
       "    </tr>\n",
       "    <tr>\n",
       "      <th>3</th>\n",
       "      <td>Star Wars Episode VII: The Force Awakens</td>\n",
       "      <td>7.9</td>\n",
       "      <td>Daisy Ridley</td>\n",
       "      <td>John Boyega</td>\n",
       "      <td>Oscar Isaac</td>\n",
       "    </tr>\n",
       "    <tr>\n",
       "      <th>4</th>\n",
       "      <td>Avengers: Infinity War</td>\n",
       "      <td>8.5</td>\n",
       "      <td>Robert Downey Jr.</td>\n",
       "      <td>Chris Hemsworth</td>\n",
       "      <td>Mark Ruffalo</td>\n",
       "    </tr>\n",
       "    <tr>\n",
       "      <th>...</th>\n",
       "      <td>...</td>\n",
       "      <td>...</td>\n",
       "      <td>...</td>\n",
       "      <td>...</td>\n",
       "      <td>...</td>\n",
       "    </tr>\n",
       "    <tr>\n",
       "      <th>2495</th>\n",
       "      <td>Never Let Me Go</td>\n",
       "      <td>7.1</td>\n",
       "      <td>Keira Knightley</td>\n",
       "      <td>Carey Mulligan</td>\n",
       "      <td>Andrew Garfield</td>\n",
       "    </tr>\n",
       "    <tr>\n",
       "      <th>2496</th>\n",
       "      <td>The Disappointments Room</td>\n",
       "      <td>3.9</td>\n",
       "      <td>Kate Beckinsale</td>\n",
       "      <td>Mel Raido</td>\n",
       "      <td>Duncan Joiner</td>\n",
       "    </tr>\n",
       "    <tr>\n",
       "      <th>2497</th>\n",
       "      <td>The Company</td>\n",
       "      <td>6.2</td>\n",
       "      <td>Neve Campbell</td>\n",
       "      <td>James Franco</td>\n",
       "      <td>Malcolm McDowell</td>\n",
       "    </tr>\n",
       "    <tr>\n",
       "      <th>2498</th>\n",
       "      <td>Transsiberian</td>\n",
       "      <td>6.6</td>\n",
       "      <td>Woody Harrelson</td>\n",
       "      <td>Emily Mortimer</td>\n",
       "      <td>Ben Kingsley</td>\n",
       "    </tr>\n",
       "    <tr>\n",
       "      <th>2499</th>\n",
       "      <td>The Comedian</td>\n",
       "      <td>5.8</td>\n",
       "      <td>Robert De Niro</td>\n",
       "      <td>Leslie Mann</td>\n",
       "      <td>Danny DeVito</td>\n",
       "    </tr>\n",
       "  </tbody>\n",
       "</table>\n",
       "<p>2500 rows × 5 columns</p>\n",
       "</div>"
      ],
      "text/plain": [
       "                                            title imdb_rating  \\\n",
       "0                               Avengers: Endgame         8.4   \n",
       "1     Pirates of the Caribbean: On Stranger Tides         6.6   \n",
       "2                         Avengers: Age of Ultron         7.3   \n",
       "3        Star Wars Episode VII: The Force Awakens         7.9   \n",
       "4                          Avengers: Infinity War         8.5   \n",
       "...                                           ...         ...   \n",
       "2495                              Never Let Me Go         7.1   \n",
       "2496                     The Disappointments Room         3.9   \n",
       "2497                                  The Company         6.2   \n",
       "2498                                Transsiberian         6.6   \n",
       "2499                                 The Comedian         5.8   \n",
       "\n",
       "                 cast_1           cast_2            cast_3  \n",
       "0     Robert Downey Jr.      Chris Evans      Mark Ruffalo  \n",
       "1           Johnny Depp    Penélope Cruz       Ian McShane  \n",
       "2     Robert Downey Jr.      Chris Evans      Mark Ruffalo  \n",
       "3          Daisy Ridley      John Boyega       Oscar Isaac  \n",
       "4     Robert Downey Jr.  Chris Hemsworth      Mark Ruffalo  \n",
       "...                 ...              ...               ...  \n",
       "2495    Keira Knightley   Carey Mulligan   Andrew Garfield  \n",
       "2496    Kate Beckinsale        Mel Raido     Duncan Joiner  \n",
       "2497      Neve Campbell     James Franco  Malcolm McDowell  \n",
       "2498    Woody Harrelson   Emily Mortimer      Ben Kingsley  \n",
       "2499     Robert De Niro      Leslie Mann      Danny DeVito  \n",
       "\n",
       "[2500 rows x 5 columns]"
      ]
     },
     "execution_count": 190,
     "metadata": {},
     "output_type": "execute_result"
    }
   ],
   "source": [
    "imdb_df"
   ]
  },
  {
   "cell_type": "code",
   "execution_count": 191,
   "id": "090ff0df",
   "metadata": {},
   "outputs": [],
   "source": [
    "# saving the dataframe to a csv\n",
    "from pathlib import Path  \n",
    "filepath = Path('imdb_df.csv')  \n",
    "filepath.parent.mkdir(parents=True, exist_ok=True)\n",
    "imdb_df.to_csv(filepath, index=False)"
   ]
  },
  {
   "cell_type": "code",
   "execution_count": null,
   "id": "f3b84a05",
   "metadata": {},
   "outputs": [],
   "source": []
  }
 ],
 "metadata": {
  "kernelspec": {
   "display_name": "Python 3 (ipykernel)",
   "language": "python",
   "name": "python3"
  },
  "language_info": {
   "codemirror_mode": {
    "name": "ipython",
    "version": 3
   },
   "file_extension": ".py",
   "mimetype": "text/x-python",
   "name": "python",
   "nbconvert_exporter": "python",
   "pygments_lexer": "ipython3",
   "version": "3.9.7"
  }
 },
 "nbformat": 4,
 "nbformat_minor": 5
}
