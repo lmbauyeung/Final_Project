{
 "cells": [
  {
   "cell_type": "code",
   "execution_count": 4,
   "id": "5c6d4de8",
   "metadata": {},
   "outputs": [],
   "source": [
    "import rotten_tomatoes_scraper"
   ]
  },
  {
   "cell_type": "code",
   "execution_count": 5,
   "id": "ea6a4da1",
   "metadata": {},
   "outputs": [
    {
     "name": "stdout",
     "output_type": "stream",
     "text": [
      "{'Score_Rotten': '81', 'Score_Audience': '74', 'Rating': 'PG-13', 'Genre': ['Romance', 'Comedy', 'Drama']}\n"
     ]
    }
   ],
   "source": [
    "from rotten_tomatoes_scraper.rt_scraper import MovieScraper\n",
    "\n",
    "movie_scraper = MovieScraper(movie_title='Vicky Cristina Barcelona')\n",
    "movie_scraper.extract_metadata()\n",
    "print(movie_scraper.metadata)"
   ]
  },
  {
   "cell_type": "code",
   "execution_count": null,
   "id": "ea2e6e8f",
   "metadata": {},
   "outputs": [],
   "source": []
  }
 ],
 "metadata": {
  "kernelspec": {
   "display_name": "Python 3 (ipykernel)",
   "language": "python",
   "name": "python3"
  },
  "language_info": {
   "codemirror_mode": {
    "name": "ipython",
    "version": 3
   },
   "file_extension": ".py",
   "mimetype": "text/x-python",
   "name": "python",
   "nbconvert_exporter": "python",
   "pygments_lexer": "ipython3",
   "version": "3.9.7"
  },
  "toc": {
   "base_numbering": 1,
   "nav_menu": {},
   "number_sections": true,
   "sideBar": true,
   "skip_h1_title": false,
   "title_cell": "Table of Contents",
   "title_sidebar": "Contents",
   "toc_cell": false,
   "toc_position": {},
   "toc_section_display": true,
   "toc_window_display": false
  }
 },
 "nbformat": 4,
 "nbformat_minor": 5
}
