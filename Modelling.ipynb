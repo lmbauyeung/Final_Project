{
 "cells": [
  {
   "cell_type": "code",
   "execution_count": 1,
   "id": "06a2be27",
   "metadata": {},
   "outputs": [],
   "source": [
    "import matplotlib.pyplot as plt\n",
    "from matplotlib.ticker import FuncFormatter\n",
    "import matplotlib.ticker as ticker\n",
    "import seaborn as sns\n",
    "%matplotlib inline\n",
    "import pandas as pd\n",
    "import numpy as np\n",
    "import warnings"
   ]
  },
  {
   "cell_type": "code",
   "execution_count": 81,
   "id": "42d4bdac",
   "metadata": {},
   "outputs": [],
   "source": [
    "# loading the imdb_full_info_df\n",
    "imdb_full_info_df = pd.read_csv('imdb_full_info_df.csv')"
   ]
  },
  {
   "cell_type": "code",
   "execution_count": 82,
   "id": "a15e753d",
   "metadata": {},
   "outputs": [],
   "source": [
    "imdb_full_info_df.drop(columns=['release_date', 'domestic_gross', 'title', 'cast_1', 'cast_2', 'cast_3', 'movie_url', 'imdb_id', 'director', 'director.1','rating_check'], inplace=True)"
   ]
  },
  {
   "cell_type": "code",
   "execution_count": 85,
   "id": "fbd1a2ac",
   "metadata": {},
   "outputs": [],
   "source": [
    "# extracting runtime values\n",
    "runtime = []\n",
    "for i in imdb_full_info_df['runtime']:\n",
    "    runtime.append(int(i[2:][:-2]))\n",
    "    \n",
    "imdb_full_info_df['runtime'] = runtime"
   ]
  },
  {
   "cell_type": "code",
   "execution_count": 83,
   "id": "989c55dd",
   "metadata": {},
   "outputs": [],
   "source": [
    "# extracting genre\n",
    "genre = []\n",
    "for i in imdb_full_info_df['genre']:\n",
    "    genre.append((i[2:][:-2]).replace(\"'\",\"\"))\n",
    "    \n",
    "imdb_full_info_df['genre'] = genre"
   ]
  },
  {
   "cell_type": "code",
   "execution_count": 86,
   "id": "09a96f10",
   "metadata": {},
   "outputs": [
    {
     "data": {
      "text/html": [
       "<div>\n",
       "<style scoped>\n",
       "    .dataframe tbody tr th:only-of-type {\n",
       "        vertical-align: middle;\n",
       "    }\n",
       "\n",
       "    .dataframe tbody tr th {\n",
       "        vertical-align: top;\n",
       "    }\n",
       "\n",
       "    .dataframe thead th {\n",
       "        text-align: right;\n",
       "    }\n",
       "</style>\n",
       "<table border=\"1\" class=\"dataframe\">\n",
       "  <thead>\n",
       "    <tr style=\"text-align: right;\">\n",
       "      <th></th>\n",
       "      <th>budget</th>\n",
       "      <th>worldwide_gross</th>\n",
       "      <th>imdb_rating</th>\n",
       "      <th>runtime</th>\n",
       "      <th>genre</th>\n",
       "    </tr>\n",
       "  </thead>\n",
       "  <tbody>\n",
       "    <tr>\n",
       "      <th>0</th>\n",
       "      <td>400000000</td>\n",
       "      <td>2797800564</td>\n",
       "      <td>8.4</td>\n",
       "      <td>181</td>\n",
       "      <td>Action, Adventure, Drama, Sci-Fi</td>\n",
       "    </tr>\n",
       "    <tr>\n",
       "      <th>1</th>\n",
       "      <td>379000000</td>\n",
       "      <td>1045713802</td>\n",
       "      <td>6.6</td>\n",
       "      <td>137</td>\n",
       "      <td>Action, Adventure, Fantasy</td>\n",
       "    </tr>\n",
       "    <tr>\n",
       "      <th>2</th>\n",
       "      <td>365000000</td>\n",
       "      <td>1395316979</td>\n",
       "      <td>7.3</td>\n",
       "      <td>141</td>\n",
       "      <td>Action, Adventure, Sci-Fi</td>\n",
       "    </tr>\n",
       "    <tr>\n",
       "      <th>3</th>\n",
       "      <td>306000000</td>\n",
       "      <td>2064615817</td>\n",
       "      <td>7.9</td>\n",
       "      <td>138</td>\n",
       "      <td>Action, Adventure, Sci-Fi</td>\n",
       "    </tr>\n",
       "    <tr>\n",
       "      <th>4</th>\n",
       "      <td>300000000</td>\n",
       "      <td>2048359754</td>\n",
       "      <td>8.5</td>\n",
       "      <td>149</td>\n",
       "      <td>Action, Adventure, Sci-Fi</td>\n",
       "    </tr>\n",
       "    <tr>\n",
       "      <th>...</th>\n",
       "      <td>...</td>\n",
       "      <td>...</td>\n",
       "      <td>...</td>\n",
       "      <td>...</td>\n",
       "      <td>...</td>\n",
       "    </tr>\n",
       "    <tr>\n",
       "      <th>3309</th>\n",
       "      <td>5000000</td>\n",
       "      <td>5476793</td>\n",
       "      <td>7.5</td>\n",
       "      <td>89</td>\n",
       "      <td>Comedy, Horror</td>\n",
       "    </tr>\n",
       "    <tr>\n",
       "      <th>3310</th>\n",
       "      <td>5000000</td>\n",
       "      <td>861325</td>\n",
       "      <td>6.1</td>\n",
       "      <td>90</td>\n",
       "      <td>Crime, Thriller, War</td>\n",
       "    </tr>\n",
       "    <tr>\n",
       "      <th>3311</th>\n",
       "      <td>5000000</td>\n",
       "      <td>584499</td>\n",
       "      <td>7.4</td>\n",
       "      <td>105</td>\n",
       "      <td>Comedy, Drama, Music</td>\n",
       "    </tr>\n",
       "    <tr>\n",
       "      <th>3312</th>\n",
       "      <td>5000000</td>\n",
       "      <td>9109597</td>\n",
       "      <td>7.2</td>\n",
       "      <td>102</td>\n",
       "      <td>Crime, Drama, Thriller</td>\n",
       "    </tr>\n",
       "    <tr>\n",
       "      <th>3313</th>\n",
       "      <td>5000000</td>\n",
       "      <td>4568257</td>\n",
       "      <td>4.3</td>\n",
       "      <td>90</td>\n",
       "      <td>Drama, Family, Music</td>\n",
       "    </tr>\n",
       "  </tbody>\n",
       "</table>\n",
       "<p>3314 rows × 5 columns</p>\n",
       "</div>"
      ],
      "text/plain": [
       "         budget  worldwide_gross  imdb_rating  runtime  \\\n",
       "0     400000000       2797800564          8.4      181   \n",
       "1     379000000       1045713802          6.6      137   \n",
       "2     365000000       1395316979          7.3      141   \n",
       "3     306000000       2064615817          7.9      138   \n",
       "4     300000000       2048359754          8.5      149   \n",
       "...         ...              ...          ...      ...   \n",
       "3309    5000000          5476793          7.5       89   \n",
       "3310    5000000           861325          6.1       90   \n",
       "3311    5000000           584499          7.4      105   \n",
       "3312    5000000          9109597          7.2      102   \n",
       "3313    5000000          4568257          4.3       90   \n",
       "\n",
       "                                 genre  \n",
       "0     Action, Adventure, Drama, Sci-Fi  \n",
       "1           Action, Adventure, Fantasy  \n",
       "2            Action, Adventure, Sci-Fi  \n",
       "3            Action, Adventure, Sci-Fi  \n",
       "4            Action, Adventure, Sci-Fi  \n",
       "...                                ...  \n",
       "3309                    Comedy, Horror  \n",
       "3310              Crime, Thriller, War  \n",
       "3311              Comedy, Drama, Music  \n",
       "3312            Crime, Drama, Thriller  \n",
       "3313              Drama, Family, Music  \n",
       "\n",
       "[3314 rows x 5 columns]"
      ]
     },
     "execution_count": 86,
     "metadata": {},
     "output_type": "execute_result"
    }
   ],
   "source": [
    "imdb_full_info_df"
   ]
  },
  {
   "cell_type": "code",
   "execution_count": 88,
   "id": "c2e84416",
   "metadata": {},
   "outputs": [],
   "source": [
    "x = imdb_full_info_df['genre'][0]"
   ]
  },
  {
   "cell_type": "code",
   "execution_count": 97,
   "id": "c2fe0f97",
   "metadata": {},
   "outputs": [
    {
     "data": {
      "text/plain": [
       "' Drama'"
      ]
     },
     "execution_count": 97,
     "metadata": {},
     "output_type": "execute_result"
    }
   ],
   "source": [
    "for i in imdb_full_info_df['genre']:\n",
    "x.split(',')[2]"
   ]
  },
  {
   "cell_type": "code",
   "execution_count": 98,
   "id": "2b53ae15",
   "metadata": {},
   "outputs": [
    {
     "data": {
      "text/plain": [
       "3"
      ]
     },
     "execution_count": 98,
     "metadata": {},
     "output_type": "execute_result"
    }
   ],
   "source": [
    "x.count(',')"
   ]
  },
  {
   "cell_type": "code",
   "execution_count": 99,
   "id": "83a76ad3",
   "metadata": {},
   "outputs": [
    {
     "data": {
      "text/plain": [
       "32"
      ]
     },
     "execution_count": 99,
     "metadata": {},
     "output_type": "execute_result"
    }
   ],
   "source": [
    "len(x)"
   ]
  },
  {
   "cell_type": "code",
   "execution_count": 102,
   "id": "f29a34e6",
   "metadata": {},
   "outputs": [],
   "source": [
    "genre_list = []\n",
    "for i in imdb_full_info_df['genre']:\n",
    "    genre_list.append(i)"
   ]
  },
  {
   "cell_type": "code",
   "execution_count": 106,
   "id": "13deeab9",
   "metadata": {},
   "outputs": [
    {
     "data": {
      "text/plain": [
       "'Action, Adventure, Fantasy'"
      ]
     },
     "execution_count": 106,
     "metadata": {},
     "output_type": "execute_result"
    }
   ],
   "source": [
    "genre_list[1]"
   ]
  },
  {
   "cell_type": "code",
   "execution_count": null,
   "id": "dfd2a3a1",
   "metadata": {},
   "outputs": [],
   "source": []
  }
 ],
 "metadata": {
  "kernelspec": {
   "display_name": "Python 3 (ipykernel)",
   "language": "python",
   "name": "python3"
  },
  "language_info": {
   "codemirror_mode": {
    "name": "ipython",
    "version": 3
   },
   "file_extension": ".py",
   "mimetype": "text/x-python",
   "name": "python",
   "nbconvert_exporter": "python",
   "pygments_lexer": "ipython3",
   "version": "3.9.7"
  }
 },
 "nbformat": 4,
 "nbformat_minor": 5
}
