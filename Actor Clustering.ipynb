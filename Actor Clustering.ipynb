{
 "cells": [
  {
   "cell_type": "code",
   "execution_count": 1,
   "id": "4f26f27c",
   "metadata": {},
   "outputs": [],
   "source": [
    "import pandas as pd\n",
    "import numpy as np"
   ]
  },
  {
   "cell_type": "code",
   "execution_count": 3,
   "id": "ad13e1f5",
   "metadata": {},
   "outputs": [],
   "source": [
    "# loading the imdb_full_info_df and inflation_date\n",
    "imdb_full_info_df = pd.read_csv('imdb_full_info_df.csv')\n",
    "star_df = pd.read_csv('Star_score.csv', sep=';')"
   ]
  },
  {
   "cell_type": "code",
   "execution_count": 49,
   "id": "9cee4cb3",
   "metadata": {},
   "outputs": [],
   "source": [
    "# removing comma in star's name\n",
    "star_df['Star'] = star_df['Star'].str.replace(',','')"
   ]
  },
  {
   "cell_type": "code",
   "execution_count": 110,
   "id": "2a204722",
   "metadata": {},
   "outputs": [],
   "source": [
    "cast_1_score = []\n",
    "cast_2_score = []\n",
    "cast_3_score = []"
   ]
  },
  {
   "cell_type": "code",
   "execution_count": 111,
   "id": "5808f78f",
   "metadata": {},
   "outputs": [],
   "source": [
    "# getting score for cast_1\n",
    "for i in range(0, len(imdb_full_info_df)):\n",
    "    year = int(imdb_full_info_df['release_date'][i][:4])\n",
    "    df = star_df[star_df['Year']==year-1]\n",
    "    filtering = df[df['Star']==imdb_full_info_df['cast_1'][i]]\n",
    "    if (len(filtering) == 1):\n",
    "        cast_1_score.append(int(filtering.Score))\n",
    "    else:\n",
    "        cast_1_score.append(0)"
   ]
  },
  {
   "cell_type": "code",
   "execution_count": 113,
   "id": "a194140c",
   "metadata": {},
   "outputs": [],
   "source": [
    "# getting score for cast_2\n",
    "for i in range(0, len(imdb_full_info_df)):\n",
    "    year = int(imdb_full_info_df['release_date'][i][:4])\n",
    "    df = star_df[star_df['Year']==year-1]\n",
    "    filtering = df[df['Star']==imdb_full_info_df['cast_2'][i]]\n",
    "    if (len(filtering) == 1):\n",
    "        cast_2_score.append(int(filtering.Score))\n",
    "    else:\n",
    "        cast_2_score.append(0)"
   ]
  },
  {
   "cell_type": "code",
   "execution_count": 114,
   "id": "95de4cd7",
   "metadata": {},
   "outputs": [],
   "source": [
    "# getting score for cast_3\n",
    "for i in range(0, len(imdb_full_info_df)):\n",
    "    year = int(imdb_full_info_df['release_date'][i][:4])\n",
    "    df = star_df[star_df['Year']==year-1]\n",
    "    filtering = df[df['Star']==imdb_full_info_df['cast_3'][i]]\n",
    "    if (len(filtering) == 1):\n",
    "        cast_3_score.append(int(filtering.Score))\n",
    "    else:\n",
    "        cast_3_score.append(0)"
   ]
  },
  {
   "cell_type": "code",
   "execution_count": 115,
   "id": "bb7a61fb",
   "metadata": {},
   "outputs": [
    {
     "name": "stdout",
     "output_type": "stream",
     "text": [
      "3314\n",
      "3314\n",
      "3314\n"
     ]
    }
   ],
   "source": [
    "print(len(cast_1_score))\n",
    "print(len(cast_2_score))\n",
    "print(len(cast_3_score))"
   ]
  },
  {
   "cell_type": "code",
   "execution_count": 122,
   "id": "b8eef93d",
   "metadata": {},
   "outputs": [],
   "source": [
    "# creating a dataframe for cast score\n",
    "cast_score_df = pd.DataFrame(columns=['movie_title', 'cast_1_score', 'cast_2_score', 'cast_3_score'])\n",
    "cast_score_df['movie_title'] = imdb_full_info_df['title']\n",
    "cast_score_df['cast_1_score'] = cast_1_score\n",
    "cast_score_df['cast_2_score'] = cast_2_score\n",
    "cast_score_df['cast_3_score'] = cast_3_score"
   ]
  },
  {
   "cell_type": "code",
   "execution_count": 124,
   "id": "54bfcadd",
   "metadata": {},
   "outputs": [],
   "source": [
    "cast_score_df['cast_score'] = cast_score_df['cast_1_score'] + cast_score_df['cast_2_score'] + cast_score_df['cast_3_score']"
   ]
  },
  {
   "cell_type": "code",
   "execution_count": 125,
   "id": "ad5e6efe",
   "metadata": {},
   "outputs": [
    {
     "data": {
      "text/html": [
       "<div>\n",
       "<style scoped>\n",
       "    .dataframe tbody tr th:only-of-type {\n",
       "        vertical-align: middle;\n",
       "    }\n",
       "\n",
       "    .dataframe tbody tr th {\n",
       "        vertical-align: top;\n",
       "    }\n",
       "\n",
       "    .dataframe thead th {\n",
       "        text-align: right;\n",
       "    }\n",
       "</style>\n",
       "<table border=\"1\" class=\"dataframe\">\n",
       "  <thead>\n",
       "    <tr style=\"text-align: right;\">\n",
       "      <th></th>\n",
       "      <th>movie_title</th>\n",
       "      <th>cast_1_score</th>\n",
       "      <th>cast_2_score</th>\n",
       "      <th>cast_3_score</th>\n",
       "      <th>cast_score</th>\n",
       "    </tr>\n",
       "  </thead>\n",
       "  <tbody>\n",
       "    <tr>\n",
       "      <th>0</th>\n",
       "      <td>Avengers: Endgame</td>\n",
       "      <td>295</td>\n",
       "      <td>200</td>\n",
       "      <td>266</td>\n",
       "      <td>761</td>\n",
       "    </tr>\n",
       "    <tr>\n",
       "      <th>1</th>\n",
       "      <td>Pirates of the Caribbean: On Stranger Tides</td>\n",
       "      <td>260</td>\n",
       "      <td>48</td>\n",
       "      <td>0</td>\n",
       "      <td>308</td>\n",
       "    </tr>\n",
       "    <tr>\n",
       "      <th>2</th>\n",
       "      <td>Avengers: Age of Ultron</td>\n",
       "      <td>206</td>\n",
       "      <td>214</td>\n",
       "      <td>179</td>\n",
       "      <td>599</td>\n",
       "    </tr>\n",
       "    <tr>\n",
       "      <th>3</th>\n",
       "      <td>Star Wars Episode VII: The Force Awakens</td>\n",
       "      <td>0</td>\n",
       "      <td>0</td>\n",
       "      <td>0</td>\n",
       "      <td>0</td>\n",
       "    </tr>\n",
       "    <tr>\n",
       "      <th>4</th>\n",
       "      <td>Avengers: Infinity War</td>\n",
       "      <td>292</td>\n",
       "      <td>314</td>\n",
       "      <td>281</td>\n",
       "      <td>887</td>\n",
       "    </tr>\n",
       "    <tr>\n",
       "      <th>...</th>\n",
       "      <td>...</td>\n",
       "      <td>...</td>\n",
       "      <td>...</td>\n",
       "      <td>...</td>\n",
       "      <td>...</td>\n",
       "    </tr>\n",
       "    <tr>\n",
       "      <th>3309</th>\n",
       "      <td>Tucker &amp; Dale vs. Evil</td>\n",
       "      <td>0</td>\n",
       "      <td>0</td>\n",
       "      <td>0</td>\n",
       "      <td>0</td>\n",
       "    </tr>\n",
       "    <tr>\n",
       "      <th>3310</th>\n",
       "      <td>Redacted</td>\n",
       "      <td>0</td>\n",
       "      <td>0</td>\n",
       "      <td>0</td>\n",
       "      <td>0</td>\n",
       "    </tr>\n",
       "    <tr>\n",
       "      <th>3311</th>\n",
       "      <td>Rudderless</td>\n",
       "      <td>0</td>\n",
       "      <td>0</td>\n",
       "      <td>0</td>\n",
       "      <td>0</td>\n",
       "    </tr>\n",
       "    <tr>\n",
       "      <th>3312</th>\n",
       "      <td>Mientras duermes</td>\n",
       "      <td>0</td>\n",
       "      <td>0</td>\n",
       "      <td>0</td>\n",
       "      <td>0</td>\n",
       "    </tr>\n",
       "    <tr>\n",
       "      <th>3313</th>\n",
       "      <td>Flying By</td>\n",
       "      <td>0</td>\n",
       "      <td>0</td>\n",
       "      <td>0</td>\n",
       "      <td>0</td>\n",
       "    </tr>\n",
       "  </tbody>\n",
       "</table>\n",
       "<p>3314 rows × 5 columns</p>\n",
       "</div>"
      ],
      "text/plain": [
       "                                      movie_title  cast_1_score  cast_2_score  \\\n",
       "0                               Avengers: Endgame           295           200   \n",
       "1     Pirates of the Caribbean: On Stranger Tides           260            48   \n",
       "2                         Avengers: Age of Ultron           206           214   \n",
       "3        Star Wars Episode VII: The Force Awakens             0             0   \n",
       "4                          Avengers: Infinity War           292           314   \n",
       "...                                           ...           ...           ...   \n",
       "3309                       Tucker & Dale vs. Evil             0             0   \n",
       "3310                                     Redacted             0             0   \n",
       "3311                                   Rudderless             0             0   \n",
       "3312                             Mientras duermes             0             0   \n",
       "3313                                    Flying By             0             0   \n",
       "\n",
       "      cast_3_score  cast_score  \n",
       "0              266         761  \n",
       "1                0         308  \n",
       "2              179         599  \n",
       "3                0           0  \n",
       "4              281         887  \n",
       "...            ...         ...  \n",
       "3309             0           0  \n",
       "3310             0           0  \n",
       "3311             0           0  \n",
       "3312             0           0  \n",
       "3313             0           0  \n",
       "\n",
       "[3314 rows x 5 columns]"
      ]
     },
     "execution_count": 125,
     "metadata": {},
     "output_type": "execute_result"
    }
   ],
   "source": [
    "cast_score_df"
   ]
  },
  {
   "cell_type": "code",
   "execution_count": null,
   "id": "2accb70b",
   "metadata": {},
   "outputs": [],
   "source": []
  }
 ],
 "metadata": {
  "kernelspec": {
   "display_name": "Python 3 (ipykernel)",
   "language": "python",
   "name": "python3"
  },
  "language_info": {
   "codemirror_mode": {
    "name": "ipython",
    "version": 3
   },
   "file_extension": ".py",
   "mimetype": "text/x-python",
   "name": "python",
   "nbconvert_exporter": "python",
   "pygments_lexer": "ipython3",
   "version": "3.9.7"
  }
 },
 "nbformat": 4,
 "nbformat_minor": 5
}
