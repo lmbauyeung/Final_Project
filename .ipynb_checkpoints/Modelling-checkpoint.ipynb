{
 "cells": [
  {
   "cell_type": "code",
   "execution_count": 192,
   "id": "ab0a8601",
   "metadata": {},
   "outputs": [],
   "source": [
    "import matplotlib.pyplot as plt\n",
    "from matplotlib.ticker import FuncFormatter\n",
    "import matplotlib.ticker as ticker\n",
    "import seaborn as sns\n",
    "%matplotlib inline\n",
    "import pandas as pd\n",
    "import numpy as np\n",
    "import warnings"
   ]
  },
  {
   "cell_type": "code",
   "execution_count": 193,
   "id": "572ef387",
   "metadata": {},
   "outputs": [],
   "source": [
    "# loading the imdb_full_info_df\n",
    "imdb_full_info_df = pd.read_csv('imdb_full_info_df.csv')"
   ]
  },
  {
   "cell_type": "code",
   "execution_count": 194,
   "id": "644217a0",
   "metadata": {},
   "outputs": [],
   "source": [
    "imdb_full_info_df.drop(columns=['release_date', 'domestic_gross', 'title', 'cast_1', 'cast_2', 'cast_3', 'movie_url', 'imdb_id', 'director', 'director.1','rating_check'], inplace=True)"
   ]
  },
  {
   "cell_type": "code",
   "execution_count": 195,
   "id": "54b59b34",
   "metadata": {},
   "outputs": [],
   "source": [
    "# extracting runtime values\n",
    "runtime = []\n",
    "for i in imdb_full_info_df['runtime']:\n",
    "    runtime.append(int(i[2:][:-2]))\n",
    "    \n",
    "imdb_full_info_df['runtime'] = runtime"
   ]
  },
  {
   "cell_type": "code",
   "execution_count": 196,
   "id": "3f19f0f9",
   "metadata": {},
   "outputs": [],
   "source": [
    "# extracting genre\n",
    "genre = []\n",
    "for i in imdb_full_info_df['genre']:\n",
    "    genre.append((i[2:][:-2]).replace(\"'\",\"\").replace(', ',','))\n",
    "    \n",
    "imdb_full_info_df['genre'] = genre"
   ]
  },
  {
   "cell_type": "code",
   "execution_count": 198,
   "id": "6689b598",
   "metadata": {},
   "outputs": [
    {
     "data": {
      "text/plain": [
       "<bound method NDFrame.head of                                      index  genre\n",
       "0                     Comedy,Drama,Romance    130\n",
       "1                           Comedy,Romance    121\n",
       "2                                   Comedy    114\n",
       "3                             Comedy,Drama    100\n",
       "4                            Drama,Romance     80\n",
       "..                                     ...    ...\n",
       "758  Action,Drama,Fantasy,Thriller,Western      1\n",
       "759             Action,Crime,Drama,Western      1\n",
       "760           Drama,Fantasy,Romance,Sci-Fi      1\n",
       "761   Crime,Drama,History,Mystery,Thriller      1\n",
       "762                     Drama,Family,Music      1\n",
       "\n",
       "[763 rows x 2 columns]>"
      ]
     },
     "execution_count": 198,
     "metadata": {},
     "output_type": "execute_result"
    }
   ],
   "source": [
    "# finding unique values for genre\n",
    "genre_cat = imdb_full_info_df['genre'].value_counts().reset_index()\n",
    "genre_cat.head"
   ]
  },
  {
   "cell_type": "code",
   "execution_count": 199,
   "id": "bb8c8e09",
   "metadata": {},
   "outputs": [],
   "source": [
    "genre_cat.rename(columns={'index':'genre_name', 'genre':'count'}, inplace=True)"
   ]
  },
  {
   "cell_type": "code",
   "execution_count": 200,
   "id": "c37a0c68",
   "metadata": {},
   "outputs": [],
   "source": [
    "genre_cat['genre_name'] = genre_cat['genre_name'].str.split(',')"
   ]
  },
  {
   "cell_type": "code",
   "execution_count": 203,
   "id": "91d348da",
   "metadata": {},
   "outputs": [],
   "source": [
    "df1 = []\n",
    "for i in range(genre_cat.shape[0]):\n",
    "    for j in genre_cat['genre_name'][i]:\n",
    "        df1.append(j)"
   ]
  },
  {
   "cell_type": "code",
   "execution_count": 205,
   "id": "97726fb8",
   "metadata": {},
   "outputs": [
    {
     "data": {
      "text/plain": [
       "['Musical',\n",
       " 'Mystery',\n",
       " 'Adventure',\n",
       " 'Sci-Fi',\n",
       " 'Fantasy',\n",
       " 'Music',\n",
       " 'Short',\n",
       " 'Crime',\n",
       " 'Horror',\n",
       " 'Sport',\n",
       " 'Thriller',\n",
       " 'Animation',\n",
       " 'Drama',\n",
       " 'Comedy',\n",
       " 'War',\n",
       " 'Family',\n",
       " 'Western',\n",
       " 'History',\n",
       " 'Documentary',\n",
       " 'Biography',\n",
       " 'Action',\n",
       " 'Romance']"
      ]
     },
     "execution_count": 205,
     "metadata": {},
     "output_type": "execute_result"
    }
   ],
   "source": [
    "list1 = list(set(df1))\n",
    "list1"
   ]
  },
  {
   "cell_type": "code",
   "execution_count": 214,
   "id": "bf731c17",
   "metadata": {},
   "outputs": [],
   "source": [
    "# creating a new dataframe with genre columns\n",
    "df2 = pd.DataFrame(columns=list1)"
   ]
  },
  {
   "cell_type": "code",
   "execution_count": 218,
   "id": "7bb38545",
   "metadata": {},
   "outputs": [
    {
     "data": {
      "text/html": [
       "<div>\n",
       "<style scoped>\n",
       "    .dataframe tbody tr th:only-of-type {\n",
       "        vertical-align: middle;\n",
       "    }\n",
       "\n",
       "    .dataframe tbody tr th {\n",
       "        vertical-align: top;\n",
       "    }\n",
       "\n",
       "    .dataframe thead th {\n",
       "        text-align: right;\n",
       "    }\n",
       "</style>\n",
       "<table border=\"1\" class=\"dataframe\">\n",
       "  <thead>\n",
       "    <tr style=\"text-align: right;\">\n",
       "      <th></th>\n",
       "      <th>budget</th>\n",
       "      <th>worldwide_gross</th>\n",
       "      <th>imdb_rating</th>\n",
       "      <th>runtime</th>\n",
       "      <th>genre</th>\n",
       "      <th>Musical</th>\n",
       "      <th>Mystery</th>\n",
       "      <th>Adventure</th>\n",
       "      <th>Sci-Fi</th>\n",
       "      <th>Fantasy</th>\n",
       "      <th>...</th>\n",
       "      <th>Drama</th>\n",
       "      <th>Comedy</th>\n",
       "      <th>War</th>\n",
       "      <th>Family</th>\n",
       "      <th>Western</th>\n",
       "      <th>History</th>\n",
       "      <th>Documentary</th>\n",
       "      <th>Biography</th>\n",
       "      <th>Action</th>\n",
       "      <th>Romance</th>\n",
       "    </tr>\n",
       "  </thead>\n",
       "  <tbody>\n",
       "    <tr>\n",
       "      <th>0</th>\n",
       "      <td>400000000</td>\n",
       "      <td>2797800564</td>\n",
       "      <td>8.4</td>\n",
       "      <td>181</td>\n",
       "      <td>Action,Adventure,Drama,Sci-Fi</td>\n",
       "      <td>NaN</td>\n",
       "      <td>NaN</td>\n",
       "      <td>NaN</td>\n",
       "      <td>NaN</td>\n",
       "      <td>NaN</td>\n",
       "      <td>...</td>\n",
       "      <td>NaN</td>\n",
       "      <td>NaN</td>\n",
       "      <td>NaN</td>\n",
       "      <td>NaN</td>\n",
       "      <td>NaN</td>\n",
       "      <td>NaN</td>\n",
       "      <td>NaN</td>\n",
       "      <td>NaN</td>\n",
       "      <td>NaN</td>\n",
       "      <td>NaN</td>\n",
       "    </tr>\n",
       "    <tr>\n",
       "      <th>1</th>\n",
       "      <td>379000000</td>\n",
       "      <td>1045713802</td>\n",
       "      <td>6.6</td>\n",
       "      <td>137</td>\n",
       "      <td>Action,Adventure,Fantasy</td>\n",
       "      <td>NaN</td>\n",
       "      <td>NaN</td>\n",
       "      <td>NaN</td>\n",
       "      <td>NaN</td>\n",
       "      <td>NaN</td>\n",
       "      <td>...</td>\n",
       "      <td>NaN</td>\n",
       "      <td>NaN</td>\n",
       "      <td>NaN</td>\n",
       "      <td>NaN</td>\n",
       "      <td>NaN</td>\n",
       "      <td>NaN</td>\n",
       "      <td>NaN</td>\n",
       "      <td>NaN</td>\n",
       "      <td>NaN</td>\n",
       "      <td>NaN</td>\n",
       "    </tr>\n",
       "    <tr>\n",
       "      <th>2</th>\n",
       "      <td>365000000</td>\n",
       "      <td>1395316979</td>\n",
       "      <td>7.3</td>\n",
       "      <td>141</td>\n",
       "      <td>Action,Adventure,Sci-Fi</td>\n",
       "      <td>NaN</td>\n",
       "      <td>NaN</td>\n",
       "      <td>NaN</td>\n",
       "      <td>NaN</td>\n",
       "      <td>NaN</td>\n",
       "      <td>...</td>\n",
       "      <td>NaN</td>\n",
       "      <td>NaN</td>\n",
       "      <td>NaN</td>\n",
       "      <td>NaN</td>\n",
       "      <td>NaN</td>\n",
       "      <td>NaN</td>\n",
       "      <td>NaN</td>\n",
       "      <td>NaN</td>\n",
       "      <td>NaN</td>\n",
       "      <td>NaN</td>\n",
       "    </tr>\n",
       "    <tr>\n",
       "      <th>3</th>\n",
       "      <td>306000000</td>\n",
       "      <td>2064615817</td>\n",
       "      <td>7.9</td>\n",
       "      <td>138</td>\n",
       "      <td>Action,Adventure,Sci-Fi</td>\n",
       "      <td>NaN</td>\n",
       "      <td>NaN</td>\n",
       "      <td>NaN</td>\n",
       "      <td>NaN</td>\n",
       "      <td>NaN</td>\n",
       "      <td>...</td>\n",
       "      <td>NaN</td>\n",
       "      <td>NaN</td>\n",
       "      <td>NaN</td>\n",
       "      <td>NaN</td>\n",
       "      <td>NaN</td>\n",
       "      <td>NaN</td>\n",
       "      <td>NaN</td>\n",
       "      <td>NaN</td>\n",
       "      <td>NaN</td>\n",
       "      <td>NaN</td>\n",
       "    </tr>\n",
       "    <tr>\n",
       "      <th>4</th>\n",
       "      <td>300000000</td>\n",
       "      <td>2048359754</td>\n",
       "      <td>8.5</td>\n",
       "      <td>149</td>\n",
       "      <td>Action,Adventure,Sci-Fi</td>\n",
       "      <td>NaN</td>\n",
       "      <td>NaN</td>\n",
       "      <td>NaN</td>\n",
       "      <td>NaN</td>\n",
       "      <td>NaN</td>\n",
       "      <td>...</td>\n",
       "      <td>NaN</td>\n",
       "      <td>NaN</td>\n",
       "      <td>NaN</td>\n",
       "      <td>NaN</td>\n",
       "      <td>NaN</td>\n",
       "      <td>NaN</td>\n",
       "      <td>NaN</td>\n",
       "      <td>NaN</td>\n",
       "      <td>NaN</td>\n",
       "      <td>NaN</td>\n",
       "    </tr>\n",
       "    <tr>\n",
       "      <th>...</th>\n",
       "      <td>...</td>\n",
       "      <td>...</td>\n",
       "      <td>...</td>\n",
       "      <td>...</td>\n",
       "      <td>...</td>\n",
       "      <td>...</td>\n",
       "      <td>...</td>\n",
       "      <td>...</td>\n",
       "      <td>...</td>\n",
       "      <td>...</td>\n",
       "      <td>...</td>\n",
       "      <td>...</td>\n",
       "      <td>...</td>\n",
       "      <td>...</td>\n",
       "      <td>...</td>\n",
       "      <td>...</td>\n",
       "      <td>...</td>\n",
       "      <td>...</td>\n",
       "      <td>...</td>\n",
       "      <td>...</td>\n",
       "      <td>...</td>\n",
       "    </tr>\n",
       "    <tr>\n",
       "      <th>3309</th>\n",
       "      <td>5000000</td>\n",
       "      <td>5476793</td>\n",
       "      <td>7.5</td>\n",
       "      <td>89</td>\n",
       "      <td>Comedy,Horror</td>\n",
       "      <td>NaN</td>\n",
       "      <td>NaN</td>\n",
       "      <td>NaN</td>\n",
       "      <td>NaN</td>\n",
       "      <td>NaN</td>\n",
       "      <td>...</td>\n",
       "      <td>NaN</td>\n",
       "      <td>NaN</td>\n",
       "      <td>NaN</td>\n",
       "      <td>NaN</td>\n",
       "      <td>NaN</td>\n",
       "      <td>NaN</td>\n",
       "      <td>NaN</td>\n",
       "      <td>NaN</td>\n",
       "      <td>NaN</td>\n",
       "      <td>NaN</td>\n",
       "    </tr>\n",
       "    <tr>\n",
       "      <th>3310</th>\n",
       "      <td>5000000</td>\n",
       "      <td>861325</td>\n",
       "      <td>6.1</td>\n",
       "      <td>90</td>\n",
       "      <td>Crime,Thriller,War</td>\n",
       "      <td>NaN</td>\n",
       "      <td>NaN</td>\n",
       "      <td>NaN</td>\n",
       "      <td>NaN</td>\n",
       "      <td>NaN</td>\n",
       "      <td>...</td>\n",
       "      <td>NaN</td>\n",
       "      <td>NaN</td>\n",
       "      <td>NaN</td>\n",
       "      <td>NaN</td>\n",
       "      <td>NaN</td>\n",
       "      <td>NaN</td>\n",
       "      <td>NaN</td>\n",
       "      <td>NaN</td>\n",
       "      <td>NaN</td>\n",
       "      <td>NaN</td>\n",
       "    </tr>\n",
       "    <tr>\n",
       "      <th>3311</th>\n",
       "      <td>5000000</td>\n",
       "      <td>584499</td>\n",
       "      <td>7.4</td>\n",
       "      <td>105</td>\n",
       "      <td>Comedy,Drama,Music</td>\n",
       "      <td>NaN</td>\n",
       "      <td>NaN</td>\n",
       "      <td>NaN</td>\n",
       "      <td>NaN</td>\n",
       "      <td>NaN</td>\n",
       "      <td>...</td>\n",
       "      <td>NaN</td>\n",
       "      <td>NaN</td>\n",
       "      <td>NaN</td>\n",
       "      <td>NaN</td>\n",
       "      <td>NaN</td>\n",
       "      <td>NaN</td>\n",
       "      <td>NaN</td>\n",
       "      <td>NaN</td>\n",
       "      <td>NaN</td>\n",
       "      <td>NaN</td>\n",
       "    </tr>\n",
       "    <tr>\n",
       "      <th>3312</th>\n",
       "      <td>5000000</td>\n",
       "      <td>9109597</td>\n",
       "      <td>7.2</td>\n",
       "      <td>102</td>\n",
       "      <td>Crime,Drama,Thriller</td>\n",
       "      <td>NaN</td>\n",
       "      <td>NaN</td>\n",
       "      <td>NaN</td>\n",
       "      <td>NaN</td>\n",
       "      <td>NaN</td>\n",
       "      <td>...</td>\n",
       "      <td>NaN</td>\n",
       "      <td>NaN</td>\n",
       "      <td>NaN</td>\n",
       "      <td>NaN</td>\n",
       "      <td>NaN</td>\n",
       "      <td>NaN</td>\n",
       "      <td>NaN</td>\n",
       "      <td>NaN</td>\n",
       "      <td>NaN</td>\n",
       "      <td>NaN</td>\n",
       "    </tr>\n",
       "    <tr>\n",
       "      <th>3313</th>\n",
       "      <td>5000000</td>\n",
       "      <td>4568257</td>\n",
       "      <td>4.3</td>\n",
       "      <td>90</td>\n",
       "      <td>Drama,Family,Music</td>\n",
       "      <td>NaN</td>\n",
       "      <td>NaN</td>\n",
       "      <td>NaN</td>\n",
       "      <td>NaN</td>\n",
       "      <td>NaN</td>\n",
       "      <td>...</td>\n",
       "      <td>NaN</td>\n",
       "      <td>NaN</td>\n",
       "      <td>NaN</td>\n",
       "      <td>NaN</td>\n",
       "      <td>NaN</td>\n",
       "      <td>NaN</td>\n",
       "      <td>NaN</td>\n",
       "      <td>NaN</td>\n",
       "      <td>NaN</td>\n",
       "      <td>NaN</td>\n",
       "    </tr>\n",
       "  </tbody>\n",
       "</table>\n",
       "<p>3314 rows × 27 columns</p>\n",
       "</div>"
      ],
      "text/plain": [
       "         budget  worldwide_gross  imdb_rating  runtime  \\\n",
       "0     400000000       2797800564          8.4      181   \n",
       "1     379000000       1045713802          6.6      137   \n",
       "2     365000000       1395316979          7.3      141   \n",
       "3     306000000       2064615817          7.9      138   \n",
       "4     300000000       2048359754          8.5      149   \n",
       "...         ...              ...          ...      ...   \n",
       "3309    5000000          5476793          7.5       89   \n",
       "3310    5000000           861325          6.1       90   \n",
       "3311    5000000           584499          7.4      105   \n",
       "3312    5000000          9109597          7.2      102   \n",
       "3313    5000000          4568257          4.3       90   \n",
       "\n",
       "                              genre Musical Mystery Adventure Sci-Fi Fantasy  \\\n",
       "0     Action,Adventure,Drama,Sci-Fi     NaN     NaN       NaN    NaN     NaN   \n",
       "1          Action,Adventure,Fantasy     NaN     NaN       NaN    NaN     NaN   \n",
       "2           Action,Adventure,Sci-Fi     NaN     NaN       NaN    NaN     NaN   \n",
       "3           Action,Adventure,Sci-Fi     NaN     NaN       NaN    NaN     NaN   \n",
       "4           Action,Adventure,Sci-Fi     NaN     NaN       NaN    NaN     NaN   \n",
       "...                             ...     ...     ...       ...    ...     ...   \n",
       "3309                  Comedy,Horror     NaN     NaN       NaN    NaN     NaN   \n",
       "3310             Crime,Thriller,War     NaN     NaN       NaN    NaN     NaN   \n",
       "3311             Comedy,Drama,Music     NaN     NaN       NaN    NaN     NaN   \n",
       "3312           Crime,Drama,Thriller     NaN     NaN       NaN    NaN     NaN   \n",
       "3313             Drama,Family,Music     NaN     NaN       NaN    NaN     NaN   \n",
       "\n",
       "      ... Drama Comedy  War Family Western History Documentary Biography  \\\n",
       "0     ...   NaN    NaN  NaN    NaN     NaN     NaN         NaN       NaN   \n",
       "1     ...   NaN    NaN  NaN    NaN     NaN     NaN         NaN       NaN   \n",
       "2     ...   NaN    NaN  NaN    NaN     NaN     NaN         NaN       NaN   \n",
       "3     ...   NaN    NaN  NaN    NaN     NaN     NaN         NaN       NaN   \n",
       "4     ...   NaN    NaN  NaN    NaN     NaN     NaN         NaN       NaN   \n",
       "...   ...   ...    ...  ...    ...     ...     ...         ...       ...   \n",
       "3309  ...   NaN    NaN  NaN    NaN     NaN     NaN         NaN       NaN   \n",
       "3310  ...   NaN    NaN  NaN    NaN     NaN     NaN         NaN       NaN   \n",
       "3311  ...   NaN    NaN  NaN    NaN     NaN     NaN         NaN       NaN   \n",
       "3312  ...   NaN    NaN  NaN    NaN     NaN     NaN         NaN       NaN   \n",
       "3313  ...   NaN    NaN  NaN    NaN     NaN     NaN         NaN       NaN   \n",
       "\n",
       "     Action Romance  \n",
       "0       NaN     NaN  \n",
       "1       NaN     NaN  \n",
       "2       NaN     NaN  \n",
       "3       NaN     NaN  \n",
       "4       NaN     NaN  \n",
       "...     ...     ...  \n",
       "3309    NaN     NaN  \n",
       "3310    NaN     NaN  \n",
       "3311    NaN     NaN  \n",
       "3312    NaN     NaN  \n",
       "3313    NaN     NaN  \n",
       "\n",
       "[3314 rows x 27 columns]"
      ]
     },
     "execution_count": 218,
     "metadata": {},
     "output_type": "execute_result"
    }
   ],
   "source": [
    "# merging two dataframes\n",
    "df3 = pd.concat([imdb_full_info_df, df2], axis=1)\n",
    "df3"
   ]
  },
  {
   "cell_type": "code",
   "execution_count": 219,
   "id": "e2756f90",
   "metadata": {},
   "outputs": [
    {
     "name": "stdout",
     "output_type": "stream",
     "text": [
      "<class 'pandas.core.frame.DataFrame'>\n",
      "Index: 3314 entries, 0 to 3313\n",
      "Data columns (total 27 columns):\n",
      " #   Column           Non-Null Count  Dtype  \n",
      "---  ------           --------------  -----  \n",
      " 0   budget           3314 non-null   int64  \n",
      " 1   worldwide_gross  3314 non-null   int64  \n",
      " 2   imdb_rating      3314 non-null   float64\n",
      " 3   runtime          3314 non-null   int64  \n",
      " 4   genre            3314 non-null   object \n",
      " 5   Musical          0 non-null      object \n",
      " 6   Mystery          0 non-null      object \n",
      " 7   Adventure        0 non-null      object \n",
      " 8   Sci-Fi           0 non-null      object \n",
      " 9   Fantasy          0 non-null      object \n",
      " 10  Music            0 non-null      object \n",
      " 11  Short            0 non-null      object \n",
      " 12  Crime            0 non-null      object \n",
      " 13  Horror           0 non-null      object \n",
      " 14  Sport            0 non-null      object \n",
      " 15  Thriller         0 non-null      object \n",
      " 16  Animation        0 non-null      object \n",
      " 17  Drama            0 non-null      object \n",
      " 18  Comedy           0 non-null      object \n",
      " 19  War              0 non-null      object \n",
      " 20  Family           0 non-null      object \n",
      " 21  Western          0 non-null      object \n",
      " 22  History          0 non-null      object \n",
      " 23  Documentary      0 non-null      object \n",
      " 24  Biography        0 non-null      object \n",
      " 25  Action           0 non-null      object \n",
      " 26  Romance          0 non-null      object \n",
      "dtypes: float64(1), int64(3), object(23)\n",
      "memory usage: 724.9+ KB\n"
     ]
    }
   ],
   "source": [
    "df3"
   ]
  },
  {
   "cell_type": "code",
   "execution_count": 210,
   "id": "1608502b",
   "metadata": {},
   "outputs": [
    {
     "data": {
      "text/plain": [
       "True"
      ]
     },
     "execution_count": 210,
     "metadata": {},
     "output_type": "execute_result"
    }
   ],
   "source": [
    "list1[2] in imdb_full_info_df['genre'][0]"
   ]
  },
  {
   "cell_type": "code",
   "execution_count": null,
   "id": "ef5667d7",
   "metadata": {},
   "outputs": [],
   "source": []
  },
  {
   "cell_type": "code",
   "execution_count": 88,
   "id": "b3c9fdb3",
   "metadata": {},
   "outputs": [],
   "source": [
    "x = imdb_full_info_df['genre'][0]"
   ]
  },
  {
   "cell_type": "code",
   "execution_count": 97,
   "id": "2daafac5",
   "metadata": {},
   "outputs": [
    {
     "data": {
      "text/plain": [
       "' Drama'"
      ]
     },
     "execution_count": 97,
     "metadata": {},
     "output_type": "execute_result"
    }
   ],
   "source": [
    "for i in imdb_full_info_df['genre']:\n",
    "x.split(',')[2]"
   ]
  },
  {
   "cell_type": "code",
   "execution_count": 98,
   "id": "3c773c20",
   "metadata": {},
   "outputs": [
    {
     "data": {
      "text/plain": [
       "3"
      ]
     },
     "execution_count": 98,
     "metadata": {},
     "output_type": "execute_result"
    }
   ],
   "source": [
    "x.count(',')"
   ]
  },
  {
   "cell_type": "code",
   "execution_count": 99,
   "id": "156eeeb3",
   "metadata": {},
   "outputs": [
    {
     "data": {
      "text/plain": [
       "32"
      ]
     },
     "execution_count": 99,
     "metadata": {},
     "output_type": "execute_result"
    }
   ],
   "source": [
    "len(x)"
   ]
  },
  {
   "cell_type": "code",
   "execution_count": 118,
   "id": "8bd85b24",
   "metadata": {},
   "outputs": [],
   "source": [
    "y = str()\n",
    "for i in range(0,len(imdb_full_info_df['genre'])):\n",
    "    if i == 0:\n",
    "        y = imdb_full_info_df['genre'][i]\n",
    "    else:\n",
    "        y = y+', '+imdb_full_info_df['genre'][i]"
   ]
  },
  {
   "cell_type": "code",
   "execution_count": 110,
   "id": "8cff0533",
   "metadata": {},
   "outputs": [
    {
     "data": {
      "text/plain": [
       "'Action, Adventure, Drama, Sci-Fi, Action, Adventure, Fantasy'"
      ]
     },
     "execution_count": 110,
     "metadata": {},
     "output_type": "execute_result"
    }
   ],
   "source": [
    "genre_list[0]+', '+genre_list[1]"
   ]
  },
  {
   "cell_type": "code",
   "execution_count": 111,
   "id": "54447201",
   "metadata": {},
   "outputs": [
    {
     "data": {
      "text/plain": [
       "'Action, Adventure, Drama, Sci-Fi, Action, Adventure, Fantasy'"
      ]
     },
     "execution_count": 111,
     "metadata": {},
     "output_type": "execute_result"
    }
   ],
   "source": [
    "imdb_full_info_df['genre'][0]+', '+imdb_full_info_df['genre'][1]"
   ]
  },
  {
   "cell_type": "code",
   "execution_count": 129,
   "id": "7627d14e",
   "metadata": {},
   "outputs": [
    {
     "ename": "AttributeError",
     "evalue": "'str' object has no attribute 'Distinct'",
     "output_type": "error",
     "traceback": [
      "\u001b[1;31m---------------------------------------------------------------------------\u001b[0m",
      "\u001b[1;31mAttributeError\u001b[0m                            Traceback (most recent call last)",
      "\u001b[1;32m~\\AppData\\Local\\Temp/ipykernel_32164/4233282832.py\u001b[0m in \u001b[0;36m<module>\u001b[1;34m\u001b[0m\n\u001b[1;32m----> 1\u001b[1;33m \u001b[0my\u001b[0m\u001b[1;33m.\u001b[0m\u001b[0mDistinct\u001b[0m\u001b[1;33m(\u001b[0m\u001b[1;33m)\u001b[0m\u001b[1;33m\u001b[0m\u001b[1;33m\u001b[0m\u001b[0m\n\u001b[0m",
      "\u001b[1;31mAttributeError\u001b[0m: 'str' object has no attribute 'Distinct'"
     ]
    }
   ],
   "source": [
    "y.Distinct()"
   ]
  },
  {
   "cell_type": "code",
   "execution_count": null,
   "id": "02030072",
   "metadata": {},
   "outputs": [],
   "source": []
  }
 ],
 "metadata": {
  "kernelspec": {
   "display_name": "Python 3 (ipykernel)",
   "language": "python",
   "name": "python3"
  },
  "language_info": {
   "codemirror_mode": {
    "name": "ipython",
    "version": 3
   },
   "file_extension": ".py",
   "mimetype": "text/x-python",
   "name": "python",
   "nbconvert_exporter": "python",
   "pygments_lexer": "ipython3",
   "version": "3.9.7"
  }
 },
 "nbformat": 4,
 "nbformat_minor": 5
}
