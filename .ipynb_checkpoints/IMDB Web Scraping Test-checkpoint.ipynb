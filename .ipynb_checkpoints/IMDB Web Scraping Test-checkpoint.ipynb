{
 "cells": [
  {
   "cell_type": "code",
   "execution_count": 206,
   "id": "eef6da9b",
   "metadata": {},
   "outputs": [],
   "source": [
    "# import libraries\n",
    "from bs4 import BeautifulSoup\n",
    "import requests"
   ]
  },
  {
   "cell_type": "markdown",
   "id": "2f73f72c",
   "metadata": {},
   "source": [
    "https://www.imdb.com/search/title/?title_type=feature&release_date=2015-01-01,2019-12-31&num_votes=2000,&sort=alpha,asc&count=250"
   ]
  },
  {
   "cell_type": "code",
   "execution_count": 207,
   "id": "ad9010b3",
   "metadata": {},
   "outputs": [],
   "source": [
    "url = 'https://www.imdb.com/search/title/?title_type=feature&release_date=2015-01-01,2019-12-31&num_votes=2000,&sort=alpha,asc&count=250&start=251&ref_=adv_nxt'"
   ]
  },
  {
   "cell_type": "code",
   "execution_count": 208,
   "id": "35fe51a2",
   "metadata": {},
   "outputs": [
    {
     "name": "stdout",
     "output_type": "stream",
     "text": [
      "https://www.imdb.com/search/title/?title_type=feature&release_date=2015-01-01,2019-12-31&num_votes=2000,&sort=alpha,asc&count=250&start=251&ref_=adv_nxt\n",
      "https://www.imdb.com/search/title/?title_type=feature&release_date=2015-01-01,2019-12-31&num_votes=2000,&sort=alpha,asc&count=250&start=251&ref_=adv_nxt\n",
      "https://www.imdb.com/search/title/?title_type=feature&release_date=2015-01-01,2019-12-31&num_votes=2000,&sort=alpha,asc&count=250&start=251&ref_=adv_nxt\n"
     ]
    }
   ],
   "source": [
    "# Retrieve all pages of search results\n",
    "iterations = range(1, 751, 250)\n",
    "\n",
    "for i in iterations:\n",
    "    start_at= str(i)\n",
    "    url = 'https://www.imdb.com/search/title/?title_type=feature&release_date=2015-01-01,2019-12-31&num_votes=2000,&sort=alpha,asc&count=250&start=251&ref_=adv_nxt'\n",
    "    print(url)"
   ]
  },
  {
   "cell_type": "code",
   "execution_count": 209,
   "id": "24504ff8",
   "metadata": {},
   "outputs": [],
   "source": [
    "from time import sleep\n",
    "from random import randint"
   ]
  },
  {
   "cell_type": "code",
   "execution_count": 210,
   "id": "15bdf03a",
   "metadata": {},
   "outputs": [
    {
     "name": "stdout",
     "output_type": "stream",
     "text": [
      "Wait time is 3\n",
      "Wait time is 3\n",
      "Wait time is 7\n"
     ]
    }
   ],
   "source": [
    "pages = []\n",
    "\n",
    "for i in iterations:\n",
    "    start_at = str(i)\n",
    "    url = 'https://www.imdb.com/search/title/?title_type=feature&release_date=2015-01-01,2019-12-31&num_votes=2000,&sort=alpha,asc&count=250&start='+ start_at +'&ref_=adv_nxt'\n",
    "    \n",
    "    response = requests.get(url)\n",
    "    \n",
    "    pages.append(response)\n",
    "    \n",
    "    wait_time = randint(3, 10)\n",
    "    print('Wait time is '+ str(wait_time))\n",
    "    sleep(wait_time)"
   ]
  },
  {
   "cell_type": "code",
   "execution_count": 220,
   "id": "bbb33047",
   "metadata": {},
   "outputs": [],
   "source": [
    "soup = BeautifulSoup(pages[0].content, 'html.parser')"
   ]
  },
  {
   "cell_type": "code",
   "execution_count": 106,
   "id": "c599f089",
   "metadata": {},
   "outputs": [
    {
     "data": {
      "text/plain": [
       "'#Captured'"
      ]
     },
     "execution_count": 106,
     "metadata": {},
     "output_type": "execute_result"
    }
   ],
   "source": [
    "# fetch title\n",
    "soup.select('h3 a')[0].get_text()"
   ]
  },
  {
   "cell_type": "code",
   "execution_count": 107,
   "id": "1142280d",
   "metadata": {},
   "outputs": [
    {
     "data": {
      "text/plain": [
       "'2017'"
      ]
     },
     "execution_count": 107,
     "metadata": {},
     "output_type": "execute_result"
    }
   ],
   "source": [
    "# fetch year\n",
    "soup.select('h3 .lister-item-year')[0].get_text()[1:-1]"
   ]
  },
  {
   "cell_type": "code",
   "execution_count": 108,
   "id": "6f61de37",
   "metadata": {},
   "outputs": [
    {
     "data": {
      "text/plain": [
       "'4.8'"
      ]
     },
     "execution_count": 108,
     "metadata": {},
     "output_type": "execute_result"
    }
   ],
   "source": [
    "# fetch imdb rating\n",
    "soup.select('.ratings-imdb-rating strong')[0].get_text()"
   ]
  },
  {
   "cell_type": "code",
   "execution_count": 111,
   "id": "ba5abb83",
   "metadata": {},
   "outputs": [
    {
     "data": {
      "text/plain": [
       "'/title/tt4278962/'"
      ]
     },
     "execution_count": 111,
     "metadata": {},
     "output_type": "execute_result"
    }
   ],
   "source": [
    "# fetch movie page link path\n",
    "soup.select('h3 a')[249].get('href')"
   ]
  },
  {
   "cell_type": "code",
   "execution_count": 120,
   "id": "bf933a81",
   "metadata": {},
   "outputs": [
    {
     "data": {
      "text/plain": [
       "'http://imdb.com/title/tt4278962/'"
      ]
     },
     "execution_count": 120,
     "metadata": {},
     "output_type": "execute_result"
    }
   ],
   "source": [
    "# create link for movie page\n",
    "movie1_link = 'http://imdb.com'+soup.select('h3 a')[249].get('href')\n",
    "movie1_link"
   ]
  },
  {
   "cell_type": "markdown",
   "id": "67f02449",
   "metadata": {},
   "source": [
    "### Test for Box Office Info"
   ]
  },
  {
   "cell_type": "code",
   "execution_count": 126,
   "id": "068f07f1",
   "metadata": {},
   "outputs": [],
   "source": [
    "movie_link = 'https://www.imdb.com/title/tt8579674/?ref_=adv_li_tt'"
   ]
  },
  {
   "cell_type": "code",
   "execution_count": 131,
   "id": "4a212215",
   "metadata": {},
   "outputs": [],
   "source": [
    "response2 = requests.get(movie_link)"
   ]
  },
  {
   "cell_type": "code",
   "execution_count": 130,
   "id": "7c8fe1c9",
   "metadata": {},
   "outputs": [],
   "source": [
    "soup2 = BeautifulSoup(response2.content, 'html.parser')"
   ]
  },
  {
   "cell_type": "code",
   "execution_count": 200,
   "id": "e0602c12",
   "metadata": {},
   "outputs": [
    {
     "data": {
      "text/plain": [
       "'$95,000,000 (estimated)'"
      ]
     },
     "execution_count": 200,
     "metadata": {},
     "output_type": "execute_result"
    }
   ],
   "source": [
    "# fetch budget\n",
    "soup2.select('section:nth-child(49) > div.styles__MetaDataContainer-sc-12uhu9s-0.cgqHBf > ul > li:nth-child(1) > div > ul > li > span')[0].get_text()"
   ]
  },
  {
   "cell_type": "code",
   "execution_count": 201,
   "id": "8812fb31",
   "metadata": {},
   "outputs": [
    {
     "data": {
      "text/plain": [
       "'$384,919,389'"
      ]
     },
     "execution_count": 201,
     "metadata": {},
     "output_type": "execute_result"
    }
   ],
   "source": [
    "# fetch box office worldwide\n",
    "soup2.select('section:nth-child(49) > div.styles__MetaDataContainer-sc-12uhu9s-0.cgqHBf > ul > li:nth-child(4) > div > ul > li > span')[0].get_text()"
   ]
  },
  {
   "cell_type": "code",
   "execution_count": 190,
   "id": "acc640e3",
   "metadata": {},
   "outputs": [],
   "source": [
    "url2 = 'https://www.imdb.com/title/tt8129794/?ref_=adv_li_tt'"
   ]
  },
  {
   "cell_type": "code",
   "execution_count": 191,
   "id": "0650af53",
   "metadata": {},
   "outputs": [],
   "source": [
    "response4 = requests.get(url2)"
   ]
  },
  {
   "cell_type": "code",
   "execution_count": 192,
   "id": "cf781992",
   "metadata": {},
   "outputs": [],
   "source": [
    "soup4 = BeautifulSoup(response4.content, 'html.parser')"
   ]
  },
  {
   "cell_type": "code",
   "execution_count": 204,
   "id": "ddf15e94",
   "metadata": {},
   "outputs": [
    {
     "data": {
      "text/plain": [
       "[]"
      ]
     },
     "execution_count": 204,
     "metadata": {},
     "output_type": "execute_result"
    }
   ],
   "source": [
    "# fetch box office worldwide\n",
    "soup4.select('section:nth-child(49) > div.styles__MetaDataContainer-sc-12uhu9s-0.cgqHBf > ul > li:nth-child(4) > div > ul > li > span')"
   ]
  },
  {
   "cell_type": "code",
   "execution_count": null,
   "id": "ed542fe3",
   "metadata": {},
   "outputs": [],
   "source": [
    "#__next > main > div > section.ipc-page-background.ipc-page-background--base.MainDetailPageLayout__StyledPageBackground-sc-13rp3wh-0.hsughJ > div > section > div > div.BTFWrapper__MainColumnContent-sc-1g8jgrg-1.fKIzsM.ipc-page-grid__item.ipc-page-grid__item--span-2 > section:nth-child(41) > div.styles__MetaDataContainer-sc-12uhu9s-0.cgqHBf > ul > li > div > ul > li > span"
   ]
  },
  {
   "cell_type": "code",
   "execution_count": null,
   "id": "50c8e61a",
   "metadata": {},
   "outputs": [],
   "source": []
  },
  {
   "cell_type": "code",
   "execution_count": 226,
   "id": "6a4a9030",
   "metadata": {},
   "outputs": [],
   "source": [
    "movie3 = 'the batman'"
   ]
  },
  {
   "cell_type": "code",
   "execution_count": 227,
   "id": "c8cee951",
   "metadata": {},
   "outputs": [],
   "source": [
    "search_url = 'https://www.imdb.com/search/title/?title='+str(movie3)+'&title_type=feature'"
   ]
  },
  {
   "cell_type": "code",
   "execution_count": 228,
   "id": "70fa3961",
   "metadata": {},
   "outputs": [],
   "source": [
    "response5 = requests.get(search_url)"
   ]
  },
  {
   "cell_type": "code",
   "execution_count": 229,
   "id": "d21d7fd1",
   "metadata": {},
   "outputs": [],
   "source": [
    "soup5 = BeautifulSoup(response5.content, 'html.parser')"
   ]
  },
  {
   "cell_type": "code",
   "execution_count": 233,
   "id": "d025f789",
   "metadata": {},
   "outputs": [
    {
     "data": {
      "text/plain": [
       "'/title/tt1877830/'"
      ]
     },
     "execution_count": 233,
     "metadata": {},
     "output_type": "execute_result"
    }
   ],
   "source": [
    "soup5.select('h3 a')[0].get('href')"
   ]
  },
  {
   "cell_type": "code",
   "execution_count": 240,
   "id": "6f1f2d8b",
   "metadata": {},
   "outputs": [
    {
     "data": {
      "text/plain": [
       "'http://imdb.com/title/tt1877830/'"
      ]
     },
     "execution_count": 240,
     "metadata": {},
     "output_type": "execute_result"
    }
   ],
   "source": [
    "movie3_link = 'http://imdb.com'+soup5.select('h3 a')[0].get('href')\n",
    "movie3_link"
   ]
  },
  {
   "cell_type": "code",
   "execution_count": 239,
   "id": "8d818b51",
   "metadata": {},
   "outputs": [],
   "source": [
    "response6 = requests.get(movie3_link)"
   ]
  },
  {
   "cell_type": "code",
   "execution_count": 237,
   "id": "869b1ee9",
   "metadata": {},
   "outputs": [],
   "source": [
    "soup6 = BeautifulSoup(response6.content, 'html.parser')"
   ]
  },
  {
   "cell_type": "code",
   "execution_count": 262,
   "id": "30d0ec5a",
   "metadata": {},
   "outputs": [
    {
     "data": {
      "text/plain": [
       "'9.2'"
      ]
     },
     "execution_count": 262,
     "metadata": {},
     "output_type": "execute_result"
    }
   ],
   "source": [
    "# fetch rating\n",
    "soup6.select('span.AggregateRatingButton__RatingScore-sc-1ll29m0-1.iTLWoV')[0].get_text()"
   ]
  },
  {
   "cell_type": "code",
   "execution_count": null,
   "id": "d90509ee",
   "metadata": {},
   "outputs": [],
   "source": []
  },
  {
   "cell_type": "code",
   "execution_count": 263,
   "id": "a9b2cf5f",
   "metadata": {},
   "outputs": [],
   "source": [
    "movie4 = 'Spirit Untamed'"
   ]
  },
  {
   "cell_type": "code",
   "execution_count": 264,
   "id": "1ec96d71",
   "metadata": {},
   "outputs": [],
   "source": [
    "search_url2 = 'https://www.imdb.com/search/title/?title='+str(movie4)+'&title_type=feature'"
   ]
  },
  {
   "cell_type": "code",
   "execution_count": 265,
   "id": "e67d55e2",
   "metadata": {},
   "outputs": [],
   "source": [
    "response7 = requests.get(search_url2)"
   ]
  },
  {
   "cell_type": "code",
   "execution_count": 266,
   "id": "46d4e79c",
   "metadata": {},
   "outputs": [],
   "source": [
    "soup7 = BeautifulSoup(response7.content, 'html.parser')"
   ]
  },
  {
   "cell_type": "code",
   "execution_count": 267,
   "id": "adaae4d5",
   "metadata": {},
   "outputs": [
    {
     "data": {
      "text/plain": [
       "'/title/tt11084896/'"
      ]
     },
     "execution_count": 267,
     "metadata": {},
     "output_type": "execute_result"
    }
   ],
   "source": [
    "soup7.select('h3 a')[0].get('href')"
   ]
  },
  {
   "cell_type": "code",
   "execution_count": 269,
   "id": "9f351338",
   "metadata": {},
   "outputs": [
    {
     "data": {
      "text/plain": [
       "'http://imdb.com/title/tt11084896/'"
      ]
     },
     "execution_count": 269,
     "metadata": {},
     "output_type": "execute_result"
    }
   ],
   "source": [
    "movie4_link = 'http://imdb.com'+soup7.select('h3 a')[0].get('href')\n",
    "movie4_link"
   ]
  },
  {
   "cell_type": "code",
   "execution_count": 270,
   "id": "9e10a69a",
   "metadata": {},
   "outputs": [],
   "source": [
    "response8 = requests.get(movie4_link)"
   ]
  },
  {
   "cell_type": "code",
   "execution_count": 271,
   "id": "9ec5641c",
   "metadata": {},
   "outputs": [],
   "source": [
    "soup8 = BeautifulSoup(response8.content, 'html.parser')"
   ]
  },
  {
   "cell_type": "code",
   "execution_count": 272,
   "id": "7adf0859",
   "metadata": {},
   "outputs": [
    {
     "data": {
      "text/plain": [
       "'5.5'"
      ]
     },
     "execution_count": 272,
     "metadata": {},
     "output_type": "execute_result"
    }
   ],
   "source": [
    "# fetch rating\n",
    "soup8.select('span.AggregateRatingButton__RatingScore-sc-1ll29m0-1.iTLWoV')[0].get_text()"
   ]
  },
  {
   "cell_type": "code",
   "execution_count": null,
   "id": "3479ca00",
   "metadata": {},
   "outputs": [],
   "source": []
  }
 ],
 "metadata": {
  "kernelspec": {
   "display_name": "Python 3 (ipykernel)",
   "language": "python",
   "name": "python3"
  },
  "language_info": {
   "codemirror_mode": {
    "name": "ipython",
    "version": 3
   },
   "file_extension": ".py",
   "mimetype": "text/x-python",
   "name": "python",
   "nbconvert_exporter": "python",
   "pygments_lexer": "ipython3",
   "version": "3.9.7"
  }
 },
 "nbformat": 4,
 "nbformat_minor": 5
}
